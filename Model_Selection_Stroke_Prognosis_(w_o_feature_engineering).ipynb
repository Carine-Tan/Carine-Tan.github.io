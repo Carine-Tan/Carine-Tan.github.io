{
  "nbformat": 4,
  "nbformat_minor": 0,
  "metadata": {
    "colab": {
      "name": "Model Selection - Stroke Prognosis (w/o feature engineering).ipynb",
      "provenance": [],
      "collapsed_sections": [],
      "toc_visible": true,
      "include_colab_link": true
    },
    "kernelspec": {
      "display_name": "Python 3",
      "language": "python",
      "name": "python3"
    },
    "language_info": {
      "codemirror_mode": {
        "name": "ipython",
        "version": 3
      },
      "file_extension": ".py",
      "mimetype": "text/x-python",
      "name": "python",
      "nbconvert_exporter": "python",
      "pygments_lexer": "ipython3",
      "version": "3.8.5"
    },
    "widgets": {
      "application/vnd.jupyter.widget-state+json": {
        "a11e846cc4a84b05b9ba30e8d4cecdd9": {
          "model_module": "@jupyter-widgets/controls",
          "model_name": "HBoxModel",
          "state": {
            "_view_name": "HBoxView",
            "_dom_classes": [],
            "_model_name": "HBoxModel",
            "_view_module": "@jupyter-widgets/controls",
            "_model_module_version": "1.5.0",
            "_view_count": null,
            "_view_module_version": "1.5.0",
            "box_style": "",
            "layout": "IPY_MODEL_6980107134204c2daa2c25f9f904022f",
            "_model_module": "@jupyter-widgets/controls",
            "children": [
              "IPY_MODEL_797ea86ad64340d59a3f1300e75a7039",
              "IPY_MODEL_c460a0cd428a49608ed6f4fc62d9587a",
              "IPY_MODEL_534cf41cc25f4e34bf7401a2c1b5f47e"
            ]
          }
        },
        "6980107134204c2daa2c25f9f904022f": {
          "model_module": "@jupyter-widgets/base",
          "model_name": "LayoutModel",
          "state": {
            "_view_name": "LayoutView",
            "grid_template_rows": null,
            "right": null,
            "justify_content": null,
            "_view_module": "@jupyter-widgets/base",
            "overflow": null,
            "_model_module_version": "1.2.0",
            "_view_count": null,
            "flex_flow": null,
            "width": null,
            "min_width": null,
            "border": null,
            "align_items": null,
            "bottom": null,
            "_model_module": "@jupyter-widgets/base",
            "top": null,
            "grid_column": null,
            "overflow_y": null,
            "overflow_x": null,
            "grid_auto_flow": null,
            "grid_area": null,
            "grid_template_columns": null,
            "flex": null,
            "_model_name": "LayoutModel",
            "justify_items": null,
            "grid_row": null,
            "max_height": null,
            "align_content": null,
            "visibility": null,
            "align_self": null,
            "height": null,
            "min_height": null,
            "padding": null,
            "grid_auto_rows": null,
            "grid_gap": null,
            "max_width": null,
            "order": null,
            "_view_module_version": "1.2.0",
            "grid_template_areas": null,
            "object_position": null,
            "object_fit": null,
            "grid_auto_columns": null,
            "margin": null,
            "display": null,
            "left": null
          }
        },
        "797ea86ad64340d59a3f1300e75a7039": {
          "model_module": "@jupyter-widgets/controls",
          "model_name": "HTMLModel",
          "state": {
            "_view_name": "HTMLView",
            "style": "IPY_MODEL_a17232c7189343c58b294ac02238e2c7",
            "_dom_classes": [],
            "description": "",
            "_model_name": "HTMLModel",
            "placeholder": "​",
            "_view_module": "@jupyter-widgets/controls",
            "_model_module_version": "1.5.0",
            "value": "Summarize dataset: 100%",
            "_view_count": null,
            "_view_module_version": "1.5.0",
            "description_tooltip": null,
            "_model_module": "@jupyter-widgets/controls",
            "layout": "IPY_MODEL_8aa16a99f3c04f4aa4b96d82ea2045ed"
          }
        },
        "c460a0cd428a49608ed6f4fc62d9587a": {
          "model_module": "@jupyter-widgets/controls",
          "model_name": "FloatProgressModel",
          "state": {
            "_view_name": "ProgressView",
            "style": "IPY_MODEL_f2dfe28ce252433dbc35abbb824e7858",
            "_dom_classes": [],
            "description": "",
            "_model_name": "FloatProgressModel",
            "bar_style": "success",
            "max": 25,
            "_view_module": "@jupyter-widgets/controls",
            "_model_module_version": "1.5.0",
            "value": 25,
            "_view_count": null,
            "_view_module_version": "1.5.0",
            "orientation": "horizontal",
            "min": 0,
            "description_tooltip": null,
            "_model_module": "@jupyter-widgets/controls",
            "layout": "IPY_MODEL_69379f25389a4060bbecabcc004235dd"
          }
        },
        "534cf41cc25f4e34bf7401a2c1b5f47e": {
          "model_module": "@jupyter-widgets/controls",
          "model_name": "HTMLModel",
          "state": {
            "_view_name": "HTMLView",
            "style": "IPY_MODEL_9fd8fab08347417cb240308f4cc2c292",
            "_dom_classes": [],
            "description": "",
            "_model_name": "HTMLModel",
            "placeholder": "​",
            "_view_module": "@jupyter-widgets/controls",
            "_model_module_version": "1.5.0",
            "value": " 25/25 [00:09&lt;00:00,  2.44it/s, Completed]",
            "_view_count": null,
            "_view_module_version": "1.5.0",
            "description_tooltip": null,
            "_model_module": "@jupyter-widgets/controls",
            "layout": "IPY_MODEL_bf59442046a04754883727689132ae0a"
          }
        },
        "a17232c7189343c58b294ac02238e2c7": {
          "model_module": "@jupyter-widgets/controls",
          "model_name": "DescriptionStyleModel",
          "state": {
            "_view_name": "StyleView",
            "_model_name": "DescriptionStyleModel",
            "description_width": "",
            "_view_module": "@jupyter-widgets/base",
            "_model_module_version": "1.5.0",
            "_view_count": null,
            "_view_module_version": "1.2.0",
            "_model_module": "@jupyter-widgets/controls"
          }
        },
        "8aa16a99f3c04f4aa4b96d82ea2045ed": {
          "model_module": "@jupyter-widgets/base",
          "model_name": "LayoutModel",
          "state": {
            "_view_name": "LayoutView",
            "grid_template_rows": null,
            "right": null,
            "justify_content": null,
            "_view_module": "@jupyter-widgets/base",
            "overflow": null,
            "_model_module_version": "1.2.0",
            "_view_count": null,
            "flex_flow": null,
            "width": null,
            "min_width": null,
            "border": null,
            "align_items": null,
            "bottom": null,
            "_model_module": "@jupyter-widgets/base",
            "top": null,
            "grid_column": null,
            "overflow_y": null,
            "overflow_x": null,
            "grid_auto_flow": null,
            "grid_area": null,
            "grid_template_columns": null,
            "flex": null,
            "_model_name": "LayoutModel",
            "justify_items": null,
            "grid_row": null,
            "max_height": null,
            "align_content": null,
            "visibility": null,
            "align_self": null,
            "height": null,
            "min_height": null,
            "padding": null,
            "grid_auto_rows": null,
            "grid_gap": null,
            "max_width": null,
            "order": null,
            "_view_module_version": "1.2.0",
            "grid_template_areas": null,
            "object_position": null,
            "object_fit": null,
            "grid_auto_columns": null,
            "margin": null,
            "display": null,
            "left": null
          }
        },
        "f2dfe28ce252433dbc35abbb824e7858": {
          "model_module": "@jupyter-widgets/controls",
          "model_name": "ProgressStyleModel",
          "state": {
            "_view_name": "StyleView",
            "_model_name": "ProgressStyleModel",
            "description_width": "",
            "_view_module": "@jupyter-widgets/base",
            "_model_module_version": "1.5.0",
            "_view_count": null,
            "_view_module_version": "1.2.0",
            "bar_color": null,
            "_model_module": "@jupyter-widgets/controls"
          }
        },
        "69379f25389a4060bbecabcc004235dd": {
          "model_module": "@jupyter-widgets/base",
          "model_name": "LayoutModel",
          "state": {
            "_view_name": "LayoutView",
            "grid_template_rows": null,
            "right": null,
            "justify_content": null,
            "_view_module": "@jupyter-widgets/base",
            "overflow": null,
            "_model_module_version": "1.2.0",
            "_view_count": null,
            "flex_flow": null,
            "width": null,
            "min_width": null,
            "border": null,
            "align_items": null,
            "bottom": null,
            "_model_module": "@jupyter-widgets/base",
            "top": null,
            "grid_column": null,
            "overflow_y": null,
            "overflow_x": null,
            "grid_auto_flow": null,
            "grid_area": null,
            "grid_template_columns": null,
            "flex": null,
            "_model_name": "LayoutModel",
            "justify_items": null,
            "grid_row": null,
            "max_height": null,
            "align_content": null,
            "visibility": null,
            "align_self": null,
            "height": null,
            "min_height": null,
            "padding": null,
            "grid_auto_rows": null,
            "grid_gap": null,
            "max_width": null,
            "order": null,
            "_view_module_version": "1.2.0",
            "grid_template_areas": null,
            "object_position": null,
            "object_fit": null,
            "grid_auto_columns": null,
            "margin": null,
            "display": null,
            "left": null
          }
        },
        "9fd8fab08347417cb240308f4cc2c292": {
          "model_module": "@jupyter-widgets/controls",
          "model_name": "DescriptionStyleModel",
          "state": {
            "_view_name": "StyleView",
            "_model_name": "DescriptionStyleModel",
            "description_width": "",
            "_view_module": "@jupyter-widgets/base",
            "_model_module_version": "1.5.0",
            "_view_count": null,
            "_view_module_version": "1.2.0",
            "_model_module": "@jupyter-widgets/controls"
          }
        },
        "bf59442046a04754883727689132ae0a": {
          "model_module": "@jupyter-widgets/base",
          "model_name": "LayoutModel",
          "state": {
            "_view_name": "LayoutView",
            "grid_template_rows": null,
            "right": null,
            "justify_content": null,
            "_view_module": "@jupyter-widgets/base",
            "overflow": null,
            "_model_module_version": "1.2.0",
            "_view_count": null,
            "flex_flow": null,
            "width": null,
            "min_width": null,
            "border": null,
            "align_items": null,
            "bottom": null,
            "_model_module": "@jupyter-widgets/base",
            "top": null,
            "grid_column": null,
            "overflow_y": null,
            "overflow_x": null,
            "grid_auto_flow": null,
            "grid_area": null,
            "grid_template_columns": null,
            "flex": null,
            "_model_name": "LayoutModel",
            "justify_items": null,
            "grid_row": null,
            "max_height": null,
            "align_content": null,
            "visibility": null,
            "align_self": null,
            "height": null,
            "min_height": null,
            "padding": null,
            "grid_auto_rows": null,
            "grid_gap": null,
            "max_width": null,
            "order": null,
            "_view_module_version": "1.2.0",
            "grid_template_areas": null,
            "object_position": null,
            "object_fit": null,
            "grid_auto_columns": null,
            "margin": null,
            "display": null,
            "left": null
          }
        },
        "afa0b38a8d0e4d79830cbc49c28ccc6b": {
          "model_module": "@jupyter-widgets/controls",
          "model_name": "HBoxModel",
          "state": {
            "_view_name": "HBoxView",
            "_dom_classes": [],
            "_model_name": "HBoxModel",
            "_view_module": "@jupyter-widgets/controls",
            "_model_module_version": "1.5.0",
            "_view_count": null,
            "_view_module_version": "1.5.0",
            "box_style": "",
            "layout": "IPY_MODEL_e67c30380de14d4aaa25a3f13b81d3f5",
            "_model_module": "@jupyter-widgets/controls",
            "children": [
              "IPY_MODEL_555e27c7c99243e2bd114eeb30541a8b",
              "IPY_MODEL_335d4d06bd7040f48c90bdfa67f7551f",
              "IPY_MODEL_3fa0870662bf4be5ace719b08ed3a932"
            ]
          }
        },
        "e67c30380de14d4aaa25a3f13b81d3f5": {
          "model_module": "@jupyter-widgets/base",
          "model_name": "LayoutModel",
          "state": {
            "_view_name": "LayoutView",
            "grid_template_rows": null,
            "right": null,
            "justify_content": null,
            "_view_module": "@jupyter-widgets/base",
            "overflow": null,
            "_model_module_version": "1.2.0",
            "_view_count": null,
            "flex_flow": null,
            "width": null,
            "min_width": null,
            "border": null,
            "align_items": null,
            "bottom": null,
            "_model_module": "@jupyter-widgets/base",
            "top": null,
            "grid_column": null,
            "overflow_y": null,
            "overflow_x": null,
            "grid_auto_flow": null,
            "grid_area": null,
            "grid_template_columns": null,
            "flex": null,
            "_model_name": "LayoutModel",
            "justify_items": null,
            "grid_row": null,
            "max_height": null,
            "align_content": null,
            "visibility": null,
            "align_self": null,
            "height": null,
            "min_height": null,
            "padding": null,
            "grid_auto_rows": null,
            "grid_gap": null,
            "max_width": null,
            "order": null,
            "_view_module_version": "1.2.0",
            "grid_template_areas": null,
            "object_position": null,
            "object_fit": null,
            "grid_auto_columns": null,
            "margin": null,
            "display": null,
            "left": null
          }
        },
        "555e27c7c99243e2bd114eeb30541a8b": {
          "model_module": "@jupyter-widgets/controls",
          "model_name": "HTMLModel",
          "state": {
            "_view_name": "HTMLView",
            "style": "IPY_MODEL_3bf0c0dc1d6047f5841faa8cc2278870",
            "_dom_classes": [],
            "description": "",
            "_model_name": "HTMLModel",
            "placeholder": "​",
            "_view_module": "@jupyter-widgets/controls",
            "_model_module_version": "1.5.0",
            "value": "Generate report structure: 100%",
            "_view_count": null,
            "_view_module_version": "1.5.0",
            "description_tooltip": null,
            "_model_module": "@jupyter-widgets/controls",
            "layout": "IPY_MODEL_c402b280047c46db96c29a73fa1dc97c"
          }
        },
        "335d4d06bd7040f48c90bdfa67f7551f": {
          "model_module": "@jupyter-widgets/controls",
          "model_name": "FloatProgressModel",
          "state": {
            "_view_name": "ProgressView",
            "style": "IPY_MODEL_b13fac6d9cd84de699fb665654e9b843",
            "_dom_classes": [],
            "description": "",
            "_model_name": "FloatProgressModel",
            "bar_style": "success",
            "max": 1,
            "_view_module": "@jupyter-widgets/controls",
            "_model_module_version": "1.5.0",
            "value": 1,
            "_view_count": null,
            "_view_module_version": "1.5.0",
            "orientation": "horizontal",
            "min": 0,
            "description_tooltip": null,
            "_model_module": "@jupyter-widgets/controls",
            "layout": "IPY_MODEL_d18a8bd26de64baaba9f754090110990"
          }
        },
        "3fa0870662bf4be5ace719b08ed3a932": {
          "model_module": "@jupyter-widgets/controls",
          "model_name": "HTMLModel",
          "state": {
            "_view_name": "HTMLView",
            "style": "IPY_MODEL_d118264a32a8478aa4ed2aed58ea7221",
            "_dom_classes": [],
            "description": "",
            "_model_name": "HTMLModel",
            "placeholder": "​",
            "_view_module": "@jupyter-widgets/controls",
            "_model_module_version": "1.5.0",
            "value": " 1/1 [00:07&lt;00:00,  7.63s/it]",
            "_view_count": null,
            "_view_module_version": "1.5.0",
            "description_tooltip": null,
            "_model_module": "@jupyter-widgets/controls",
            "layout": "IPY_MODEL_4739024735784a878b911cbf07e2f0c1"
          }
        },
        "3bf0c0dc1d6047f5841faa8cc2278870": {
          "model_module": "@jupyter-widgets/controls",
          "model_name": "DescriptionStyleModel",
          "state": {
            "_view_name": "StyleView",
            "_model_name": "DescriptionStyleModel",
            "description_width": "",
            "_view_module": "@jupyter-widgets/base",
            "_model_module_version": "1.5.0",
            "_view_count": null,
            "_view_module_version": "1.2.0",
            "_model_module": "@jupyter-widgets/controls"
          }
        },
        "c402b280047c46db96c29a73fa1dc97c": {
          "model_module": "@jupyter-widgets/base",
          "model_name": "LayoutModel",
          "state": {
            "_view_name": "LayoutView",
            "grid_template_rows": null,
            "right": null,
            "justify_content": null,
            "_view_module": "@jupyter-widgets/base",
            "overflow": null,
            "_model_module_version": "1.2.0",
            "_view_count": null,
            "flex_flow": null,
            "width": null,
            "min_width": null,
            "border": null,
            "align_items": null,
            "bottom": null,
            "_model_module": "@jupyter-widgets/base",
            "top": null,
            "grid_column": null,
            "overflow_y": null,
            "overflow_x": null,
            "grid_auto_flow": null,
            "grid_area": null,
            "grid_template_columns": null,
            "flex": null,
            "_model_name": "LayoutModel",
            "justify_items": null,
            "grid_row": null,
            "max_height": null,
            "align_content": null,
            "visibility": null,
            "align_self": null,
            "height": null,
            "min_height": null,
            "padding": null,
            "grid_auto_rows": null,
            "grid_gap": null,
            "max_width": null,
            "order": null,
            "_view_module_version": "1.2.0",
            "grid_template_areas": null,
            "object_position": null,
            "object_fit": null,
            "grid_auto_columns": null,
            "margin": null,
            "display": null,
            "left": null
          }
        },
        "b13fac6d9cd84de699fb665654e9b843": {
          "model_module": "@jupyter-widgets/controls",
          "model_name": "ProgressStyleModel",
          "state": {
            "_view_name": "StyleView",
            "_model_name": "ProgressStyleModel",
            "description_width": "",
            "_view_module": "@jupyter-widgets/base",
            "_model_module_version": "1.5.0",
            "_view_count": null,
            "_view_module_version": "1.2.0",
            "bar_color": null,
            "_model_module": "@jupyter-widgets/controls"
          }
        },
        "d18a8bd26de64baaba9f754090110990": {
          "model_module": "@jupyter-widgets/base",
          "model_name": "LayoutModel",
          "state": {
            "_view_name": "LayoutView",
            "grid_template_rows": null,
            "right": null,
            "justify_content": null,
            "_view_module": "@jupyter-widgets/base",
            "overflow": null,
            "_model_module_version": "1.2.0",
            "_view_count": null,
            "flex_flow": null,
            "width": null,
            "min_width": null,
            "border": null,
            "align_items": null,
            "bottom": null,
            "_model_module": "@jupyter-widgets/base",
            "top": null,
            "grid_column": null,
            "overflow_y": null,
            "overflow_x": null,
            "grid_auto_flow": null,
            "grid_area": null,
            "grid_template_columns": null,
            "flex": null,
            "_model_name": "LayoutModel",
            "justify_items": null,
            "grid_row": null,
            "max_height": null,
            "align_content": null,
            "visibility": null,
            "align_self": null,
            "height": null,
            "min_height": null,
            "padding": null,
            "grid_auto_rows": null,
            "grid_gap": null,
            "max_width": null,
            "order": null,
            "_view_module_version": "1.2.0",
            "grid_template_areas": null,
            "object_position": null,
            "object_fit": null,
            "grid_auto_columns": null,
            "margin": null,
            "display": null,
            "left": null
          }
        },
        "d118264a32a8478aa4ed2aed58ea7221": {
          "model_module": "@jupyter-widgets/controls",
          "model_name": "DescriptionStyleModel",
          "state": {
            "_view_name": "StyleView",
            "_model_name": "DescriptionStyleModel",
            "description_width": "",
            "_view_module": "@jupyter-widgets/base",
            "_model_module_version": "1.5.0",
            "_view_count": null,
            "_view_module_version": "1.2.0",
            "_model_module": "@jupyter-widgets/controls"
          }
        },
        "4739024735784a878b911cbf07e2f0c1": {
          "model_module": "@jupyter-widgets/base",
          "model_name": "LayoutModel",
          "state": {
            "_view_name": "LayoutView",
            "grid_template_rows": null,
            "right": null,
            "justify_content": null,
            "_view_module": "@jupyter-widgets/base",
            "overflow": null,
            "_model_module_version": "1.2.0",
            "_view_count": null,
            "flex_flow": null,
            "width": null,
            "min_width": null,
            "border": null,
            "align_items": null,
            "bottom": null,
            "_model_module": "@jupyter-widgets/base",
            "top": null,
            "grid_column": null,
            "overflow_y": null,
            "overflow_x": null,
            "grid_auto_flow": null,
            "grid_area": null,
            "grid_template_columns": null,
            "flex": null,
            "_model_name": "LayoutModel",
            "justify_items": null,
            "grid_row": null,
            "max_height": null,
            "align_content": null,
            "visibility": null,
            "align_self": null,
            "height": null,
            "min_height": null,
            "padding": null,
            "grid_auto_rows": null,
            "grid_gap": null,
            "max_width": null,
            "order": null,
            "_view_module_version": "1.2.0",
            "grid_template_areas": null,
            "object_position": null,
            "object_fit": null,
            "grid_auto_columns": null,
            "margin": null,
            "display": null,
            "left": null
          }
        },
        "55f84df7baa248ae9f130fd0919f1da7": {
          "model_module": "@jupyter-widgets/controls",
          "model_name": "HBoxModel",
          "state": {
            "_view_name": "HBoxView",
            "_dom_classes": [],
            "_model_name": "HBoxModel",
            "_view_module": "@jupyter-widgets/controls",
            "_model_module_version": "1.5.0",
            "_view_count": null,
            "_view_module_version": "1.5.0",
            "box_style": "",
            "layout": "IPY_MODEL_8c2bc4a902b94e42a97f76728a191d47",
            "_model_module": "@jupyter-widgets/controls",
            "children": [
              "IPY_MODEL_cd5a3241800340b5b25845fea6444351",
              "IPY_MODEL_bcabc6c7a9054321b49f690913a582ef",
              "IPY_MODEL_320a444c2bb84707bb9ec9d5037b9121"
            ]
          }
        },
        "8c2bc4a902b94e42a97f76728a191d47": {
          "model_module": "@jupyter-widgets/base",
          "model_name": "LayoutModel",
          "state": {
            "_view_name": "LayoutView",
            "grid_template_rows": null,
            "right": null,
            "justify_content": null,
            "_view_module": "@jupyter-widgets/base",
            "overflow": null,
            "_model_module_version": "1.2.0",
            "_view_count": null,
            "flex_flow": null,
            "width": null,
            "min_width": null,
            "border": null,
            "align_items": null,
            "bottom": null,
            "_model_module": "@jupyter-widgets/base",
            "top": null,
            "grid_column": null,
            "overflow_y": null,
            "overflow_x": null,
            "grid_auto_flow": null,
            "grid_area": null,
            "grid_template_columns": null,
            "flex": null,
            "_model_name": "LayoutModel",
            "justify_items": null,
            "grid_row": null,
            "max_height": null,
            "align_content": null,
            "visibility": null,
            "align_self": null,
            "height": null,
            "min_height": null,
            "padding": null,
            "grid_auto_rows": null,
            "grid_gap": null,
            "max_width": null,
            "order": null,
            "_view_module_version": "1.2.0",
            "grid_template_areas": null,
            "object_position": null,
            "object_fit": null,
            "grid_auto_columns": null,
            "margin": null,
            "display": null,
            "left": null
          }
        },
        "cd5a3241800340b5b25845fea6444351": {
          "model_module": "@jupyter-widgets/controls",
          "model_name": "HTMLModel",
          "state": {
            "_view_name": "HTMLView",
            "style": "IPY_MODEL_2b0308fa0cdb4012ae90efc7af5431d5",
            "_dom_classes": [],
            "description": "",
            "_model_name": "HTMLModel",
            "placeholder": "​",
            "_view_module": "@jupyter-widgets/controls",
            "_model_module_version": "1.5.0",
            "value": "Render HTML: 100%",
            "_view_count": null,
            "_view_module_version": "1.5.0",
            "description_tooltip": null,
            "_model_module": "@jupyter-widgets/controls",
            "layout": "IPY_MODEL_f9012abb71264574b7be8a448dd5f644"
          }
        },
        "bcabc6c7a9054321b49f690913a582ef": {
          "model_module": "@jupyter-widgets/controls",
          "model_name": "FloatProgressModel",
          "state": {
            "_view_name": "ProgressView",
            "style": "IPY_MODEL_a551fcaad284489181035f88ac0ed0b2",
            "_dom_classes": [],
            "description": "",
            "_model_name": "FloatProgressModel",
            "bar_style": "success",
            "max": 1,
            "_view_module": "@jupyter-widgets/controls",
            "_model_module_version": "1.5.0",
            "value": 1,
            "_view_count": null,
            "_view_module_version": "1.5.0",
            "orientation": "horizontal",
            "min": 0,
            "description_tooltip": null,
            "_model_module": "@jupyter-widgets/controls",
            "layout": "IPY_MODEL_047e9ee15d864dea91cd9cd134a23e7f"
          }
        },
        "320a444c2bb84707bb9ec9d5037b9121": {
          "model_module": "@jupyter-widgets/controls",
          "model_name": "HTMLModel",
          "state": {
            "_view_name": "HTMLView",
            "style": "IPY_MODEL_d77db38d260d44309df76e9e60b5a984",
            "_dom_classes": [],
            "description": "",
            "_model_name": "HTMLModel",
            "placeholder": "​",
            "_view_module": "@jupyter-widgets/controls",
            "_model_module_version": "1.5.0",
            "value": " 1/1 [00:01&lt;00:00,  1.16s/it]",
            "_view_count": null,
            "_view_module_version": "1.5.0",
            "description_tooltip": null,
            "_model_module": "@jupyter-widgets/controls",
            "layout": "IPY_MODEL_a240a4543bc54361bcdf5819654e246c"
          }
        },
        "2b0308fa0cdb4012ae90efc7af5431d5": {
          "model_module": "@jupyter-widgets/controls",
          "model_name": "DescriptionStyleModel",
          "state": {
            "_view_name": "StyleView",
            "_model_name": "DescriptionStyleModel",
            "description_width": "",
            "_view_module": "@jupyter-widgets/base",
            "_model_module_version": "1.5.0",
            "_view_count": null,
            "_view_module_version": "1.2.0",
            "_model_module": "@jupyter-widgets/controls"
          }
        },
        "f9012abb71264574b7be8a448dd5f644": {
          "model_module": "@jupyter-widgets/base",
          "model_name": "LayoutModel",
          "state": {
            "_view_name": "LayoutView",
            "grid_template_rows": null,
            "right": null,
            "justify_content": null,
            "_view_module": "@jupyter-widgets/base",
            "overflow": null,
            "_model_module_version": "1.2.0",
            "_view_count": null,
            "flex_flow": null,
            "width": null,
            "min_width": null,
            "border": null,
            "align_items": null,
            "bottom": null,
            "_model_module": "@jupyter-widgets/base",
            "top": null,
            "grid_column": null,
            "overflow_y": null,
            "overflow_x": null,
            "grid_auto_flow": null,
            "grid_area": null,
            "grid_template_columns": null,
            "flex": null,
            "_model_name": "LayoutModel",
            "justify_items": null,
            "grid_row": null,
            "max_height": null,
            "align_content": null,
            "visibility": null,
            "align_self": null,
            "height": null,
            "min_height": null,
            "padding": null,
            "grid_auto_rows": null,
            "grid_gap": null,
            "max_width": null,
            "order": null,
            "_view_module_version": "1.2.0",
            "grid_template_areas": null,
            "object_position": null,
            "object_fit": null,
            "grid_auto_columns": null,
            "margin": null,
            "display": null,
            "left": null
          }
        },
        "a551fcaad284489181035f88ac0ed0b2": {
          "model_module": "@jupyter-widgets/controls",
          "model_name": "ProgressStyleModel",
          "state": {
            "_view_name": "StyleView",
            "_model_name": "ProgressStyleModel",
            "description_width": "",
            "_view_module": "@jupyter-widgets/base",
            "_model_module_version": "1.5.0",
            "_view_count": null,
            "_view_module_version": "1.2.0",
            "bar_color": null,
            "_model_module": "@jupyter-widgets/controls"
          }
        },
        "047e9ee15d864dea91cd9cd134a23e7f": {
          "model_module": "@jupyter-widgets/base",
          "model_name": "LayoutModel",
          "state": {
            "_view_name": "LayoutView",
            "grid_template_rows": null,
            "right": null,
            "justify_content": null,
            "_view_module": "@jupyter-widgets/base",
            "overflow": null,
            "_model_module_version": "1.2.0",
            "_view_count": null,
            "flex_flow": null,
            "width": null,
            "min_width": null,
            "border": null,
            "align_items": null,
            "bottom": null,
            "_model_module": "@jupyter-widgets/base",
            "top": null,
            "grid_column": null,
            "overflow_y": null,
            "overflow_x": null,
            "grid_auto_flow": null,
            "grid_area": null,
            "grid_template_columns": null,
            "flex": null,
            "_model_name": "LayoutModel",
            "justify_items": null,
            "grid_row": null,
            "max_height": null,
            "align_content": null,
            "visibility": null,
            "align_self": null,
            "height": null,
            "min_height": null,
            "padding": null,
            "grid_auto_rows": null,
            "grid_gap": null,
            "max_width": null,
            "order": null,
            "_view_module_version": "1.2.0",
            "grid_template_areas": null,
            "object_position": null,
            "object_fit": null,
            "grid_auto_columns": null,
            "margin": null,
            "display": null,
            "left": null
          }
        },
        "d77db38d260d44309df76e9e60b5a984": {
          "model_module": "@jupyter-widgets/controls",
          "model_name": "DescriptionStyleModel",
          "state": {
            "_view_name": "StyleView",
            "_model_name": "DescriptionStyleModel",
            "description_width": "",
            "_view_module": "@jupyter-widgets/base",
            "_model_module_version": "1.5.0",
            "_view_count": null,
            "_view_module_version": "1.2.0",
            "_model_module": "@jupyter-widgets/controls"
          }
        },
        "a240a4543bc54361bcdf5819654e246c": {
          "model_module": "@jupyter-widgets/base",
          "model_name": "LayoutModel",
          "state": {
            "_view_name": "LayoutView",
            "grid_template_rows": null,
            "right": null,
            "justify_content": null,
            "_view_module": "@jupyter-widgets/base",
            "overflow": null,
            "_model_module_version": "1.2.0",
            "_view_count": null,
            "flex_flow": null,
            "width": null,
            "min_width": null,
            "border": null,
            "align_items": null,
            "bottom": null,
            "_model_module": "@jupyter-widgets/base",
            "top": null,
            "grid_column": null,
            "overflow_y": null,
            "overflow_x": null,
            "grid_auto_flow": null,
            "grid_area": null,
            "grid_template_columns": null,
            "flex": null,
            "_model_name": "LayoutModel",
            "justify_items": null,
            "grid_row": null,
            "max_height": null,
            "align_content": null,
            "visibility": null,
            "align_self": null,
            "height": null,
            "min_height": null,
            "padding": null,
            "grid_auto_rows": null,
            "grid_gap": null,
            "max_width": null,
            "order": null,
            "_view_module_version": "1.2.0",
            "grid_template_areas": null,
            "object_position": null,
            "object_fit": null,
            "grid_auto_columns": null,
            "margin": null,
            "display": null,
            "left": null
          }
        },
        "032fac9226e448deab09e1b65aa5da4a": {
          "model_module": "@jupyter-widgets/controls",
          "model_name": "HBoxModel",
          "state": {
            "_view_name": "HBoxView",
            "_dom_classes": [],
            "_model_name": "HBoxModel",
            "_view_module": "@jupyter-widgets/controls",
            "_model_module_version": "1.5.0",
            "_view_count": null,
            "_view_module_version": "1.5.0",
            "box_style": "",
            "layout": "IPY_MODEL_a6bca5ecbb8442b8be8cc0e96bd3f77f",
            "_model_module": "@jupyter-widgets/controls",
            "children": [
              "IPY_MODEL_c75810eb8c8545f0b005a8656142c094",
              "IPY_MODEL_adaa44bcb2384c6f9f16a98b97d3942f",
              "IPY_MODEL_f601b10d92b84dbdb80ad98e57158daa"
            ]
          }
        },
        "a6bca5ecbb8442b8be8cc0e96bd3f77f": {
          "model_module": "@jupyter-widgets/base",
          "model_name": "LayoutModel",
          "state": {
            "_view_name": "LayoutView",
            "grid_template_rows": null,
            "right": null,
            "justify_content": null,
            "_view_module": "@jupyter-widgets/base",
            "overflow": null,
            "_model_module_version": "1.2.0",
            "_view_count": null,
            "flex_flow": null,
            "width": null,
            "min_width": null,
            "border": null,
            "align_items": null,
            "bottom": null,
            "_model_module": "@jupyter-widgets/base",
            "top": null,
            "grid_column": null,
            "overflow_y": null,
            "overflow_x": null,
            "grid_auto_flow": null,
            "grid_area": null,
            "grid_template_columns": null,
            "flex": null,
            "_model_name": "LayoutModel",
            "justify_items": null,
            "grid_row": null,
            "max_height": null,
            "align_content": null,
            "visibility": null,
            "align_self": null,
            "height": null,
            "min_height": null,
            "padding": null,
            "grid_auto_rows": null,
            "grid_gap": null,
            "max_width": null,
            "order": null,
            "_view_module_version": "1.2.0",
            "grid_template_areas": null,
            "object_position": null,
            "object_fit": null,
            "grid_auto_columns": null,
            "margin": null,
            "display": null,
            "left": null
          }
        },
        "c75810eb8c8545f0b005a8656142c094": {
          "model_module": "@jupyter-widgets/controls",
          "model_name": "HTMLModel",
          "state": {
            "_view_name": "HTMLView",
            "style": "IPY_MODEL_a3cfe61e5fc646eda8eb598fb9f47eb6",
            "_dom_classes": [],
            "description": "",
            "_model_name": "HTMLModel",
            "placeholder": "​",
            "_view_module": "@jupyter-widgets/controls",
            "_model_module_version": "1.5.0",
            "value": "Export report to file: 100%",
            "_view_count": null,
            "_view_module_version": "1.5.0",
            "description_tooltip": null,
            "_model_module": "@jupyter-widgets/controls",
            "layout": "IPY_MODEL_c188c38687c04233be8d511d994b5df3"
          }
        },
        "adaa44bcb2384c6f9f16a98b97d3942f": {
          "model_module": "@jupyter-widgets/controls",
          "model_name": "FloatProgressModel",
          "state": {
            "_view_name": "ProgressView",
            "style": "IPY_MODEL_f17dfd0cbf334964965a94eb5b018a99",
            "_dom_classes": [],
            "description": "",
            "_model_name": "FloatProgressModel",
            "bar_style": "success",
            "max": 1,
            "_view_module": "@jupyter-widgets/controls",
            "_model_module_version": "1.5.0",
            "value": 1,
            "_view_count": null,
            "_view_module_version": "1.5.0",
            "orientation": "horizontal",
            "min": 0,
            "description_tooltip": null,
            "_model_module": "@jupyter-widgets/controls",
            "layout": "IPY_MODEL_8261bf7f47384f7cb51ae43af9095782"
          }
        },
        "f601b10d92b84dbdb80ad98e57158daa": {
          "model_module": "@jupyter-widgets/controls",
          "model_name": "HTMLModel",
          "state": {
            "_view_name": "HTMLView",
            "style": "IPY_MODEL_d2cb82889d144a90859db38218bffa3b",
            "_dom_classes": [],
            "description": "",
            "_model_name": "HTMLModel",
            "placeholder": "​",
            "_view_module": "@jupyter-widgets/controls",
            "_model_module_version": "1.5.0",
            "value": " 1/1 [00:00&lt;00:00, 19.18it/s]",
            "_view_count": null,
            "_view_module_version": "1.5.0",
            "description_tooltip": null,
            "_model_module": "@jupyter-widgets/controls",
            "layout": "IPY_MODEL_30883bb622f442a9994d8712a1b392ef"
          }
        },
        "a3cfe61e5fc646eda8eb598fb9f47eb6": {
          "model_module": "@jupyter-widgets/controls",
          "model_name": "DescriptionStyleModel",
          "state": {
            "_view_name": "StyleView",
            "_model_name": "DescriptionStyleModel",
            "description_width": "",
            "_view_module": "@jupyter-widgets/base",
            "_model_module_version": "1.5.0",
            "_view_count": null,
            "_view_module_version": "1.2.0",
            "_model_module": "@jupyter-widgets/controls"
          }
        },
        "c188c38687c04233be8d511d994b5df3": {
          "model_module": "@jupyter-widgets/base",
          "model_name": "LayoutModel",
          "state": {
            "_view_name": "LayoutView",
            "grid_template_rows": null,
            "right": null,
            "justify_content": null,
            "_view_module": "@jupyter-widgets/base",
            "overflow": null,
            "_model_module_version": "1.2.0",
            "_view_count": null,
            "flex_flow": null,
            "width": null,
            "min_width": null,
            "border": null,
            "align_items": null,
            "bottom": null,
            "_model_module": "@jupyter-widgets/base",
            "top": null,
            "grid_column": null,
            "overflow_y": null,
            "overflow_x": null,
            "grid_auto_flow": null,
            "grid_area": null,
            "grid_template_columns": null,
            "flex": null,
            "_model_name": "LayoutModel",
            "justify_items": null,
            "grid_row": null,
            "max_height": null,
            "align_content": null,
            "visibility": null,
            "align_self": null,
            "height": null,
            "min_height": null,
            "padding": null,
            "grid_auto_rows": null,
            "grid_gap": null,
            "max_width": null,
            "order": null,
            "_view_module_version": "1.2.0",
            "grid_template_areas": null,
            "object_position": null,
            "object_fit": null,
            "grid_auto_columns": null,
            "margin": null,
            "display": null,
            "left": null
          }
        },
        "f17dfd0cbf334964965a94eb5b018a99": {
          "model_module": "@jupyter-widgets/controls",
          "model_name": "ProgressStyleModel",
          "state": {
            "_view_name": "StyleView",
            "_model_name": "ProgressStyleModel",
            "description_width": "",
            "_view_module": "@jupyter-widgets/base",
            "_model_module_version": "1.5.0",
            "_view_count": null,
            "_view_module_version": "1.2.0",
            "bar_color": null,
            "_model_module": "@jupyter-widgets/controls"
          }
        },
        "8261bf7f47384f7cb51ae43af9095782": {
          "model_module": "@jupyter-widgets/base",
          "model_name": "LayoutModel",
          "state": {
            "_view_name": "LayoutView",
            "grid_template_rows": null,
            "right": null,
            "justify_content": null,
            "_view_module": "@jupyter-widgets/base",
            "overflow": null,
            "_model_module_version": "1.2.0",
            "_view_count": null,
            "flex_flow": null,
            "width": null,
            "min_width": null,
            "border": null,
            "align_items": null,
            "bottom": null,
            "_model_module": "@jupyter-widgets/base",
            "top": null,
            "grid_column": null,
            "overflow_y": null,
            "overflow_x": null,
            "grid_auto_flow": null,
            "grid_area": null,
            "grid_template_columns": null,
            "flex": null,
            "_model_name": "LayoutModel",
            "justify_items": null,
            "grid_row": null,
            "max_height": null,
            "align_content": null,
            "visibility": null,
            "align_self": null,
            "height": null,
            "min_height": null,
            "padding": null,
            "grid_auto_rows": null,
            "grid_gap": null,
            "max_width": null,
            "order": null,
            "_view_module_version": "1.2.0",
            "grid_template_areas": null,
            "object_position": null,
            "object_fit": null,
            "grid_auto_columns": null,
            "margin": null,
            "display": null,
            "left": null
          }
        },
        "d2cb82889d144a90859db38218bffa3b": {
          "model_module": "@jupyter-widgets/controls",
          "model_name": "DescriptionStyleModel",
          "state": {
            "_view_name": "StyleView",
            "_model_name": "DescriptionStyleModel",
            "description_width": "",
            "_view_module": "@jupyter-widgets/base",
            "_model_module_version": "1.5.0",
            "_view_count": null,
            "_view_module_version": "1.2.0",
            "_model_module": "@jupyter-widgets/controls"
          }
        },
        "30883bb622f442a9994d8712a1b392ef": {
          "model_module": "@jupyter-widgets/base",
          "model_name": "LayoutModel",
          "state": {
            "_view_name": "LayoutView",
            "grid_template_rows": null,
            "right": null,
            "justify_content": null,
            "_view_module": "@jupyter-widgets/base",
            "overflow": null,
            "_model_module_version": "1.2.0",
            "_view_count": null,
            "flex_flow": null,
            "width": null,
            "min_width": null,
            "border": null,
            "align_items": null,
            "bottom": null,
            "_model_module": "@jupyter-widgets/base",
            "top": null,
            "grid_column": null,
            "overflow_y": null,
            "overflow_x": null,
            "grid_auto_flow": null,
            "grid_area": null,
            "grid_template_columns": null,
            "flex": null,
            "_model_name": "LayoutModel",
            "justify_items": null,
            "grid_row": null,
            "max_height": null,
            "align_content": null,
            "visibility": null,
            "align_self": null,
            "height": null,
            "min_height": null,
            "padding": null,
            "grid_auto_rows": null,
            "grid_gap": null,
            "max_width": null,
            "order": null,
            "_view_module_version": "1.2.0",
            "grid_template_areas": null,
            "object_position": null,
            "object_fit": null,
            "grid_auto_columns": null,
            "margin": null,
            "display": null,
            "left": null
          }
        }
      }
    }
  },
  "cells": [
    {
      "cell_type": "markdown",
      "metadata": {
        "id": "view-in-github",
        "colab_type": "text"
      },
      "source": [
        "<a href=\"https://colab.research.google.com/github/Carine-Tan/Carine-Tan.github.io/blob/master/Model_Selection_Stroke_Prognosis_(w_o_feature_engineering).ipynb\" target=\"_parent\"><img src=\"https://colab.research.google.com/assets/colab-badge.svg\" alt=\"Open In Colab\"/></a>"
      ]
    },
    {
      "cell_type": "markdown",
      "metadata": {
        "id": "uB9Iaa8vh1G8"
      },
      "source": [
        "## Identify patients at high risk for stroke based on their demographic, behavioral and medical risk factors."
      ]
    },
    {
      "cell_type": "markdown",
      "metadata": {
        "id": "_R65qLDZrB9w"
      },
      "source": [
        "# Model Selection\n",
        "\n",
        "## Objective - To predict stroke with the best model"
      ]
    },
    {
      "cell_type": "code",
      "metadata": {
        "colab": {
          "base_uri": "https://localhost:8080/"
        },
        "id": "8V1LFV_6Eseg",
        "outputId": "06cedce8-dea8-4d34-eb3b-f3973e31c0cd"
      },
      "source": [
        "# install sklearn ver.24\n",
        "!pip install scikit-learn==0.24.1"
      ],
      "execution_count": null,
      "outputs": [
        {
          "output_type": "stream",
          "text": [
            "Collecting scikit-learn==0.24.1\n",
            "\u001b[?25l  Downloading https://files.pythonhosted.org/packages/f3/74/eb899f41d55f957e2591cde5528e75871f817d9fb46d4732423ecaca736d/scikit_learn-0.24.1-cp37-cp37m-manylinux2010_x86_64.whl (22.3MB)\n",
            "\u001b[K     |████████████████████████████████| 22.3MB 1.4MB/s \n",
            "\u001b[?25hRequirement already satisfied: joblib>=0.11 in /usr/local/lib/python3.7/dist-packages (from scikit-learn==0.24.1) (1.0.1)\n",
            "Requirement already satisfied: numpy>=1.13.3 in /usr/local/lib/python3.7/dist-packages (from scikit-learn==0.24.1) (1.19.5)\n",
            "Requirement already satisfied: scipy>=0.19.1 in /usr/local/lib/python3.7/dist-packages (from scikit-learn==0.24.1) (1.4.1)\n",
            "Collecting threadpoolctl>=2.0.0\n",
            "  Downloading https://files.pythonhosted.org/packages/f7/12/ec3f2e203afa394a149911729357aa48affc59c20e2c1c8297a60f33f133/threadpoolctl-2.1.0-py3-none-any.whl\n",
            "Installing collected packages: threadpoolctl, scikit-learn\n",
            "  Found existing installation: scikit-learn 0.22.2.post1\n",
            "    Uninstalling scikit-learn-0.22.2.post1:\n",
            "      Successfully uninstalled scikit-learn-0.22.2.post1\n",
            "Successfully installed scikit-learn-0.24.1 threadpoolctl-2.1.0\n"
          ],
          "name": "stdout"
        }
      ]
    },
    {
      "cell_type": "code",
      "metadata": {
        "colab": {
          "base_uri": "https://localhost:8080/"
        },
        "id": "wu7TgBYL-Ovf",
        "outputId": "e73aad1b-e00b-4611-f50c-a94ae1e852d9"
      },
      "source": [
        "# install imbalanced learn for SMOTE use\n",
        "!pip install -U imbalanced-learn"
      ],
      "execution_count": null,
      "outputs": [
        {
          "output_type": "stream",
          "text": [
            "Collecting imbalanced-learn\n",
            "\u001b[?25l  Downloading https://files.pythonhosted.org/packages/80/98/dc784205a7e3034e84d41ac4781660c67ad6327f2f5a80c568df31673d1c/imbalanced_learn-0.8.0-py3-none-any.whl (206kB)\n",
            "\r\u001b[K     |█▋                              | 10kB 14.2MB/s eta 0:00:01\r\u001b[K     |███▏                            | 20kB 20.4MB/s eta 0:00:01\r\u001b[K     |████▊                           | 30kB 13.6MB/s eta 0:00:01\r\u001b[K     |██████▍                         | 40kB 11.0MB/s eta 0:00:01\r\u001b[K     |████████                        | 51kB 7.9MB/s eta 0:00:01\r\u001b[K     |█████████▌                      | 61kB 8.2MB/s eta 0:00:01\r\u001b[K     |███████████                     | 71kB 7.9MB/s eta 0:00:01\r\u001b[K     |████████████▊                   | 81kB 8.5MB/s eta 0:00:01\r\u001b[K     |██████████████▎                 | 92kB 8.4MB/s eta 0:00:01\r\u001b[K     |███████████████▉                | 102kB 8.4MB/s eta 0:00:01\r\u001b[K     |█████████████████▌              | 112kB 8.4MB/s eta 0:00:01\r\u001b[K     |███████████████████             | 122kB 8.4MB/s eta 0:00:01\r\u001b[K     |████████████████████▋           | 133kB 8.4MB/s eta 0:00:01\r\u001b[K     |██████████████████████▏         | 143kB 8.4MB/s eta 0:00:01\r\u001b[K     |███████████████████████▉        | 153kB 8.4MB/s eta 0:00:01\r\u001b[K     |█████████████████████████▍      | 163kB 8.4MB/s eta 0:00:01\r\u001b[K     |███████████████████████████     | 174kB 8.4MB/s eta 0:00:01\r\u001b[K     |████████████████████████████▋   | 184kB 8.4MB/s eta 0:00:01\r\u001b[K     |██████████████████████████████▏ | 194kB 8.4MB/s eta 0:00:01\r\u001b[K     |███████████████████████████████▊| 204kB 8.4MB/s eta 0:00:01\r\u001b[K     |████████████████████████████████| 215kB 8.4MB/s \n",
            "\u001b[?25hRequirement already satisfied, skipping upgrade: scipy>=0.19.1 in /usr/local/lib/python3.7/dist-packages (from imbalanced-learn) (1.4.1)\n",
            "Requirement already satisfied, skipping upgrade: joblib>=0.11 in /usr/local/lib/python3.7/dist-packages (from imbalanced-learn) (1.0.1)\n",
            "Requirement already satisfied, skipping upgrade: scikit-learn>=0.24 in /usr/local/lib/python3.7/dist-packages (from imbalanced-learn) (0.24.1)\n",
            "Requirement already satisfied, skipping upgrade: numpy>=1.13.3 in /usr/local/lib/python3.7/dist-packages (from imbalanced-learn) (1.19.5)\n",
            "Requirement already satisfied, skipping upgrade: threadpoolctl>=2.0.0 in /usr/local/lib/python3.7/dist-packages (from scikit-learn>=0.24->imbalanced-learn) (2.1.0)\n",
            "Installing collected packages: imbalanced-learn\n",
            "  Found existing installation: imbalanced-learn 0.4.3\n",
            "    Uninstalling imbalanced-learn-0.4.3:\n",
            "      Successfully uninstalled imbalanced-learn-0.4.3\n",
            "Successfully installed imbalanced-learn-0.8.0\n"
          ],
          "name": "stdout"
        }
      ]
    },
    {
      "cell_type": "code",
      "metadata": {
        "colab": {
          "base_uri": "https://localhost:8080/"
        },
        "id": "AqicDS8RTI1O",
        "outputId": "0c4bc185-17c3-4ab1-805b-3dd2f52074d5"
      },
      "source": [
        "# install pandas profiling\n",
        "!pip install https://github.com/pandas-profiling/pandas-profiling/archive/master.zip"
      ],
      "execution_count": null,
      "outputs": [
        {
          "output_type": "stream",
          "text": [
            "Collecting https://github.com/pandas-profiling/pandas-profiling/archive/master.zip\n",
            "\u001b[?25l  Downloading https://github.com/pandas-profiling/pandas-profiling/archive/master.zip\n",
            "\u001b[K     / 38.2MB 52.4MB/s\n",
            "\u001b[?25hRequirement already satisfied: joblib in /usr/local/lib/python3.7/dist-packages (from pandas-profiling==2.12.0) (1.0.1)\n",
            "Requirement already satisfied: scipy>=1.4.1 in /usr/local/lib/python3.7/dist-packages (from pandas-profiling==2.12.0) (1.4.1)\n",
            "Requirement already satisfied: pandas!=1.0.0,!=1.0.1,!=1.0.2,!=1.1.0,>=0.25.3 in /usr/local/lib/python3.7/dist-packages (from pandas-profiling==2.12.0) (1.1.5)\n",
            "Requirement already satisfied: matplotlib>=3.2.0 in /usr/local/lib/python3.7/dist-packages (from pandas-profiling==2.12.0) (3.2.2)\n",
            "Collecting confuse>=1.0.0\n",
            "  Downloading https://files.pythonhosted.org/packages/6d/55/b4726d81e5d6509fa3441f770f8a9524612627dc1b2a7d6209d1d20083fe/confuse-1.4.0-py2.py3-none-any.whl\n",
            "Requirement already satisfied: jinja2>=2.11.1 in /usr/local/lib/python3.7/dist-packages (from pandas-profiling==2.12.0) (2.11.3)\n",
            "Collecting visions[type_image_path]==0.6.0\n",
            "\u001b[?25l  Downloading https://files.pythonhosted.org/packages/98/30/b1e70bc55962239c4c3c9660e892be2d8247a882135a3035c10ff7f02cde/visions-0.6.0-py3-none-any.whl (75kB)\n",
            "\u001b[K     |████████████████████████████████| 81kB 4.9MB/s \n",
            "\u001b[?25hRequirement already satisfied: numpy>=1.16.0 in /usr/local/lib/python3.7/dist-packages (from pandas-profiling==2.12.0) (1.19.5)\n",
            "Requirement already satisfied: attrs>=19.3.0 in /usr/local/lib/python3.7/dist-packages (from pandas-profiling==2.12.0) (20.3.0)\n",
            "Collecting htmlmin>=0.1.12\n",
            "  Downloading https://files.pythonhosted.org/packages/b3/e7/fcd59e12169de19f0131ff2812077f964c6b960e7c09804d30a7bf2ab461/htmlmin-0.1.12.tar.gz\n",
            "Requirement already satisfied: missingno>=0.4.2 in /usr/local/lib/python3.7/dist-packages (from pandas-profiling==2.12.0) (0.4.2)\n",
            "Collecting phik>=0.10.0\n",
            "\u001b[?25l  Downloading https://files.pythonhosted.org/packages/b7/ce/193e8ddf62d4be643b9b4b20e8e9c63b2f6a20f92778c0410c629f89bdaa/phik-0.11.2.tar.gz (1.1MB)\n",
            "\u001b[K     |████████████████████████████████| 1.1MB 26.8MB/s \n",
            "\u001b[?25hCollecting tangled-up-in-unicode>=0.0.6\n",
            "\u001b[?25l  Downloading https://files.pythonhosted.org/packages/ec/d1/58bfbe263494741a47140049b989ad42a8941854e8d34f1af90640c6c9f9/tangled_up_in_unicode-0.0.7-py3-none-any.whl (3.1MB)\n",
            "\u001b[K     |████████████████████████████████| 3.2MB 45.5MB/s \n",
            "\u001b[?25hCollecting requests>=2.24.0\n",
            "\u001b[?25l  Downloading https://files.pythonhosted.org/packages/29/c1/24814557f1d22c56d50280771a17307e6bf87b70727d975fd6b2ce6b014a/requests-2.25.1-py2.py3-none-any.whl (61kB)\n",
            "\u001b[K     |████████████████████████████████| 61kB 5.6MB/s \n",
            "\u001b[?25hCollecting tqdm>=4.48.2\n",
            "\u001b[?25l  Downloading https://files.pythonhosted.org/packages/72/8a/34efae5cf9924328a8f34eeb2fdaae14c011462d9f0e3fcded48e1266d1c/tqdm-4.60.0-py2.py3-none-any.whl (75kB)\n",
            "\u001b[K     |████████████████████████████████| 81kB 8.1MB/s \n",
            "\u001b[?25hRequirement already satisfied: seaborn>=0.10.1 in /usr/local/lib/python3.7/dist-packages (from pandas-profiling==2.12.0) (0.11.1)\n",
            "Requirement already satisfied: pytz>=2017.2 in /usr/local/lib/python3.7/dist-packages (from pandas!=1.0.0,!=1.0.1,!=1.0.2,!=1.1.0,>=0.25.3->pandas-profiling==2.12.0) (2018.9)\n",
            "Requirement already satisfied: python-dateutil>=2.7.3 in /usr/local/lib/python3.7/dist-packages (from pandas!=1.0.0,!=1.0.1,!=1.0.2,!=1.1.0,>=0.25.3->pandas-profiling==2.12.0) (2.8.1)\n",
            "Requirement already satisfied: pyparsing!=2.0.4,!=2.1.2,!=2.1.6,>=2.0.1 in /usr/local/lib/python3.7/dist-packages (from matplotlib>=3.2.0->pandas-profiling==2.12.0) (2.4.7)\n",
            "Requirement already satisfied: kiwisolver>=1.0.1 in /usr/local/lib/python3.7/dist-packages (from matplotlib>=3.2.0->pandas-profiling==2.12.0) (1.3.1)\n",
            "Requirement already satisfied: cycler>=0.10 in /usr/local/lib/python3.7/dist-packages (from matplotlib>=3.2.0->pandas-profiling==2.12.0) (0.10.0)\n",
            "Requirement already satisfied: pyyaml in /usr/local/lib/python3.7/dist-packages (from confuse>=1.0.0->pandas-profiling==2.12.0) (3.13)\n",
            "Requirement already satisfied: MarkupSafe>=0.23 in /usr/local/lib/python3.7/dist-packages (from jinja2>=2.11.1->pandas-profiling==2.12.0) (1.1.1)\n",
            "Requirement already satisfied: networkx>=2.4 in /usr/local/lib/python3.7/dist-packages (from visions[type_image_path]==0.6.0->pandas-profiling==2.12.0) (2.5.1)\n",
            "Requirement already satisfied: Pillow; extra == \"type_image_path\" in /usr/local/lib/python3.7/dist-packages (from visions[type_image_path]==0.6.0->pandas-profiling==2.12.0) (7.1.2)\n",
            "Collecting imagehash; extra == \"type_image_path\"\n",
            "\u001b[?25l  Downloading https://files.pythonhosted.org/packages/8e/18/9dbb772b5ef73a3069c66bb5bf29b9fb4dd57af0d5790c781c3f559bcca6/ImageHash-4.2.0-py2.py3-none-any.whl (295kB)\n",
            "\u001b[K     |████████████████████████████████| 296kB 48.0MB/s \n",
            "\u001b[?25hRequirement already satisfied: chardet<5,>=3.0.2 in /usr/local/lib/python3.7/dist-packages (from requests>=2.24.0->pandas-profiling==2.12.0) (3.0.4)\n",
            "Requirement already satisfied: idna<3,>=2.5 in /usr/local/lib/python3.7/dist-packages (from requests>=2.24.0->pandas-profiling==2.12.0) (2.10)\n",
            "Requirement already satisfied: urllib3<1.27,>=1.21.1 in /usr/local/lib/python3.7/dist-packages (from requests>=2.24.0->pandas-profiling==2.12.0) (1.24.3)\n",
            "Requirement already satisfied: certifi>=2017.4.17 in /usr/local/lib/python3.7/dist-packages (from requests>=2.24.0->pandas-profiling==2.12.0) (2020.12.5)\n",
            "Requirement already satisfied: six>=1.5 in /usr/local/lib/python3.7/dist-packages (from python-dateutil>=2.7.3->pandas!=1.0.0,!=1.0.1,!=1.0.2,!=1.1.0,>=0.25.3->pandas-profiling==2.12.0) (1.15.0)\n",
            "Requirement already satisfied: decorator<5,>=4.3 in /usr/local/lib/python3.7/dist-packages (from networkx>=2.4->visions[type_image_path]==0.6.0->pandas-profiling==2.12.0) (4.4.2)\n",
            "Requirement already satisfied: PyWavelets in /usr/local/lib/python3.7/dist-packages (from imagehash; extra == \"type_image_path\"->visions[type_image_path]==0.6.0->pandas-profiling==2.12.0) (1.1.1)\n",
            "Building wheels for collected packages: pandas-profiling, htmlmin, phik\n",
            "  Building wheel for pandas-profiling (setup.py) ... \u001b[?25l\u001b[?25hdone\n",
            "  Created wheel for pandas-profiling: filename=pandas_profiling-2.12.0-py2.py3-none-any.whl size=243829 sha256=932931d40d570b1b8f4b4c0ad98d9e1ee39bc3402fe4ae22a791ad41939d1fc6\n",
            "  Stored in directory: /tmp/pip-ephem-wheel-cache-m5tlzk9c/wheels/56/c2/dd/8d945b0443c35df7d5f62fa9e9ae105a2d8b286302b92e0109\n",
            "  Building wheel for htmlmin (setup.py) ... \u001b[?25l\u001b[?25hdone\n",
            "  Created wheel for htmlmin: filename=htmlmin-0.1.12-cp37-none-any.whl size=27085 sha256=9684b4ad3c59cf29250361baf5aabc629f09e8d0a594c6933edded3d22fd2e56\n",
            "  Stored in directory: /root/.cache/pip/wheels/43/07/ac/7c5a9d708d65247ac1f94066cf1db075540b85716c30255459\n",
            "  Building wheel for phik (setup.py) ... \u001b[?25l\u001b[?25hdone\n",
            "  Created wheel for phik: filename=phik-0.11.2-cp37-none-any.whl size=1107413 sha256=9ad42ba4e002363325928d0dad8fc89bb7bdb58a7ed0febb71e8c8819d511221\n",
            "  Stored in directory: /root/.cache/pip/wheels/c0/a3/b0/f27b1cfe32ea131a3715169132ff6d85653789e80e966c3bf6\n",
            "Successfully built pandas-profiling htmlmin phik\n",
            "\u001b[31mERROR: google-colab 1.0.0 has requirement requests~=2.23.0, but you'll have requests 2.25.1 which is incompatible.\u001b[0m\n",
            "\u001b[31mERROR: datascience 0.10.6 has requirement folium==0.2.1, but you'll have folium 0.8.3 which is incompatible.\u001b[0m\n",
            "\u001b[31mERROR: phik 0.11.2 has requirement scipy>=1.5.2, but you'll have scipy 1.4.1 which is incompatible.\u001b[0m\n",
            "Installing collected packages: confuse, tangled-up-in-unicode, imagehash, visions, htmlmin, phik, requests, tqdm, pandas-profiling\n",
            "  Found existing installation: requests 2.23.0\n",
            "    Uninstalling requests-2.23.0:\n",
            "      Successfully uninstalled requests-2.23.0\n",
            "  Found existing installation: tqdm 4.41.1\n",
            "    Uninstalling tqdm-4.41.1:\n",
            "      Successfully uninstalled tqdm-4.41.1\n",
            "  Found existing installation: pandas-profiling 1.4.1\n",
            "    Uninstalling pandas-profiling-1.4.1:\n",
            "      Successfully uninstalled pandas-profiling-1.4.1\n",
            "Successfully installed confuse-1.4.0 htmlmin-0.1.12 imagehash-4.2.0 pandas-profiling-2.12.0 phik-0.11.2 requests-2.25.1 tangled-up-in-unicode-0.0.7 tqdm-4.60.0 visions-0.6.0\n"
          ],
          "name": "stdout"
        }
      ]
    },
    {
      "cell_type": "code",
      "metadata": {
        "colab": {
          "base_uri": "https://localhost:8080/"
        },
        "id": "O8z5R6_nCp_l",
        "outputId": "4cb68664-9952-48e3-9103-47950e519281"
      },
      "source": [
        "!pip install git+https://github.com/remykarem/mixed-naive-bayes#egg=mixed-naive-bayes"
      ],
      "execution_count": null,
      "outputs": [
        {
          "output_type": "stream",
          "text": [
            "Collecting mixed-naive-bayes\n",
            "  Cloning https://github.com/remykarem/mixed-naive-bayes to /tmp/pip-install-lydo8olp/mixed-naive-bayes\n",
            "  Running command git clone -q https://github.com/remykarem/mixed-naive-bayes /tmp/pip-install-lydo8olp/mixed-naive-bayes\n",
            "Requirement already satisfied: numpy>=1.16.1 in /usr/local/lib/python3.7/dist-packages (from mixed-naive-bayes) (1.19.5)\n",
            "Requirement already satisfied: scikit-learn>=0.20.2 in /usr/local/lib/python3.7/dist-packages (from mixed-naive-bayes) (0.24.1)\n",
            "Requirement already satisfied: scipy>=0.19.1 in /usr/local/lib/python3.7/dist-packages (from scikit-learn>=0.20.2->mixed-naive-bayes) (1.4.1)\n",
            "Requirement already satisfied: threadpoolctl>=2.0.0 in /usr/local/lib/python3.7/dist-packages (from scikit-learn>=0.20.2->mixed-naive-bayes) (2.1.0)\n",
            "Requirement already satisfied: joblib>=0.11 in /usr/local/lib/python3.7/dist-packages (from scikit-learn>=0.20.2->mixed-naive-bayes) (1.0.1)\n",
            "Building wheels for collected packages: mixed-naive-bayes\n",
            "  Building wheel for mixed-naive-bayes (setup.py) ... \u001b[?25l\u001b[?25hdone\n",
            "  Created wheel for mixed-naive-bayes: filename=mixed_naive_bayes-0.0.2-cp37-none-any.whl size=11225 sha256=e5bb79d959ffbc89594738e435526eadb80bb455128c1a3bcdca3b7dec952569\n",
            "  Stored in directory: /tmp/pip-ephem-wheel-cache-blbywpj_/wheels/75/c7/39/3f5ba0eed16e20d82f06cd8a97ac747f32e14e3679bcec600b\n",
            "Successfully built mixed-naive-bayes\n",
            "Installing collected packages: mixed-naive-bayes\n",
            "Successfully installed mixed-naive-bayes-0.0.2\n"
          ],
          "name": "stdout"
        }
      ]
    },
    {
      "cell_type": "markdown",
      "metadata": {
        "id": "HrNlWqoIY-zx"
      },
      "source": [
        "### Import required libraries"
      ]
    },
    {
      "cell_type": "code",
      "metadata": {
        "id": "14kmIHJorB91"
      },
      "source": [
        "# Importing the required libraries\n",
        "import numpy as np\n",
        "import pandas as pd\n",
        "import matplotlib.pyplot as plt\n",
        "import seaborn as sns\n",
        "\n",
        "from sklearn.preprocessing import LabelEncoder\n",
        "from sklearn.model_selection import train_test_split, cross_val_score\n",
        "from sklearn.linear_model import LogisticRegression\n",
        "from sklearn.ensemble import RandomForestClassifier\n",
        "from sklearn.neural_network import MLPClassifier\n",
        "from sklearn.metrics import confusion_matrix , classification_report, f1_score,\\\n",
        "                            accuracy_score, precision_score, recall_score\n",
        "from sklearn.model_selection import GridSearchCV\n",
        "from pandas_profiling import ProfileReport\n",
        "\n",
        "# arbituary value for SEED\n",
        "SEED = 42"
      ],
      "execution_count": null,
      "outputs": []
    },
    {
      "cell_type": "markdown",
      "metadata": {
        "id": "zAxXEo3frB92"
      },
      "source": [
        "### Step 1: Load in the required data"
      ]
    },
    {
      "cell_type": "code",
      "metadata": {
        "colab": {
          "base_uri": "https://localhost:8080/",
          "height": 194
        },
        "id": "uc5Z5zSdrB93",
        "outputId": "56997c8d-cac6-4715-aad1-891736f5cf5e"
      },
      "source": [
        "# Load the dataset in pandas dataframe\n",
        "df_data = pd.read_csv('/content/healthcare-dataset-stroke-data.csv')\n",
        "df_data.sample(5)"
      ],
      "execution_count": null,
      "outputs": [
        {
          "output_type": "execute_result",
          "data": {
            "text/html": [
              "<div>\n",
              "<style scoped>\n",
              "    .dataframe tbody tr th:only-of-type {\n",
              "        vertical-align: middle;\n",
              "    }\n",
              "\n",
              "    .dataframe tbody tr th {\n",
              "        vertical-align: top;\n",
              "    }\n",
              "\n",
              "    .dataframe thead th {\n",
              "        text-align: right;\n",
              "    }\n",
              "</style>\n",
              "<table border=\"1\" class=\"dataframe\">\n",
              "  <thead>\n",
              "    <tr style=\"text-align: right;\">\n",
              "      <th></th>\n",
              "      <th>id</th>\n",
              "      <th>gender</th>\n",
              "      <th>age</th>\n",
              "      <th>hypertension</th>\n",
              "      <th>heart_disease</th>\n",
              "      <th>ever_married</th>\n",
              "      <th>work_type</th>\n",
              "      <th>Residence_type</th>\n",
              "      <th>avg_glucose_level</th>\n",
              "      <th>bmi</th>\n",
              "      <th>smoking_status</th>\n",
              "      <th>stroke</th>\n",
              "    </tr>\n",
              "  </thead>\n",
              "  <tbody>\n",
              "    <tr>\n",
              "      <th>4338</th>\n",
              "      <td>2456</td>\n",
              "      <td>Male</td>\n",
              "      <td>60.0</td>\n",
              "      <td>1</td>\n",
              "      <td>0</td>\n",
              "      <td>Yes</td>\n",
              "      <td>Govt_job</td>\n",
              "      <td>Rural</td>\n",
              "      <td>100.20</td>\n",
              "      <td>28.5</td>\n",
              "      <td>smokes</td>\n",
              "      <td>0</td>\n",
              "    </tr>\n",
              "    <tr>\n",
              "      <th>4699</th>\n",
              "      <td>19611</td>\n",
              "      <td>Male</td>\n",
              "      <td>59.0</td>\n",
              "      <td>0</td>\n",
              "      <td>0</td>\n",
              "      <td>Yes</td>\n",
              "      <td>Private</td>\n",
              "      <td>Urban</td>\n",
              "      <td>81.21</td>\n",
              "      <td>33.2</td>\n",
              "      <td>smokes</td>\n",
              "      <td>0</td>\n",
              "    </tr>\n",
              "    <tr>\n",
              "      <th>2707</th>\n",
              "      <td>46498</td>\n",
              "      <td>Female</td>\n",
              "      <td>57.0</td>\n",
              "      <td>0</td>\n",
              "      <td>0</td>\n",
              "      <td>Yes</td>\n",
              "      <td>Private</td>\n",
              "      <td>Urban</td>\n",
              "      <td>217.40</td>\n",
              "      <td>36.6</td>\n",
              "      <td>never smoked</td>\n",
              "      <td>0</td>\n",
              "    </tr>\n",
              "    <tr>\n",
              "      <th>370</th>\n",
              "      <td>28286</td>\n",
              "      <td>Male</td>\n",
              "      <td>44.0</td>\n",
              "      <td>0</td>\n",
              "      <td>0</td>\n",
              "      <td>Yes</td>\n",
              "      <td>Private</td>\n",
              "      <td>Rural</td>\n",
              "      <td>74.91</td>\n",
              "      <td>37.5</td>\n",
              "      <td>never smoked</td>\n",
              "      <td>0</td>\n",
              "    </tr>\n",
              "    <tr>\n",
              "      <th>704</th>\n",
              "      <td>18390</td>\n",
              "      <td>Female</td>\n",
              "      <td>19.0</td>\n",
              "      <td>0</td>\n",
              "      <td>0</td>\n",
              "      <td>No</td>\n",
              "      <td>Private</td>\n",
              "      <td>Rural</td>\n",
              "      <td>91.69</td>\n",
              "      <td>39.5</td>\n",
              "      <td>Unknown</td>\n",
              "      <td>0</td>\n",
              "    </tr>\n",
              "  </tbody>\n",
              "</table>\n",
              "</div>"
            ],
            "text/plain": [
              "         id  gender   age  ...   bmi  smoking_status stroke\n",
              "4338   2456    Male  60.0  ...  28.5          smokes      0\n",
              "4699  19611    Male  59.0  ...  33.2          smokes      0\n",
              "2707  46498  Female  57.0  ...  36.6    never smoked      0\n",
              "370   28286    Male  44.0  ...  37.5    never smoked      0\n",
              "704   18390  Female  19.0  ...  39.5         Unknown      0\n",
              "\n",
              "[5 rows x 12 columns]"
            ]
          },
          "metadata": {
            "tags": []
          },
          "execution_count": 6
        }
      ]
    },
    {
      "cell_type": "code",
      "metadata": {
        "colab": {
          "base_uri": "https://localhost:8080/"
        },
        "id": "PtMk_kp3rB93",
        "outputId": "4d9c899f-9333-421e-e73d-226e7dfa8db1"
      },
      "source": [
        "df_data['stroke'].value_counts()"
      ],
      "execution_count": null,
      "outputs": [
        {
          "output_type": "execute_result",
          "data": {
            "text/plain": [
              "0    4861\n",
              "1     249\n",
              "Name: stroke, dtype: int64"
            ]
          },
          "metadata": {
            "tags": []
          },
          "execution_count": 7
        }
      ]
    },
    {
      "cell_type": "markdown",
      "metadata": {
        "id": "Snq7Yfo9rB94"
      },
      "source": [
        "### Step 2: Data Pre-processing and Exploratory Data Analysis"
      ]
    },
    {
      "cell_type": "markdown",
      "metadata": {
        "id": "jndZT7f0TZ9s"
      },
      "source": [
        "#### Exploratory Data Analysis with Pandas Profiling"
      ]
    },
    {
      "cell_type": "code",
      "metadata": {
        "id": "91DTGNieTRZi",
        "colab": {
          "base_uri": "https://localhost:8080/",
          "height": 145,
          "referenced_widgets": [
            "a11e846cc4a84b05b9ba30e8d4cecdd9",
            "6980107134204c2daa2c25f9f904022f",
            "797ea86ad64340d59a3f1300e75a7039",
            "c460a0cd428a49608ed6f4fc62d9587a",
            "534cf41cc25f4e34bf7401a2c1b5f47e",
            "a17232c7189343c58b294ac02238e2c7",
            "8aa16a99f3c04f4aa4b96d82ea2045ed",
            "f2dfe28ce252433dbc35abbb824e7858",
            "69379f25389a4060bbecabcc004235dd",
            "9fd8fab08347417cb240308f4cc2c292",
            "bf59442046a04754883727689132ae0a",
            "afa0b38a8d0e4d79830cbc49c28ccc6b",
            "e67c30380de14d4aaa25a3f13b81d3f5",
            "555e27c7c99243e2bd114eeb30541a8b",
            "335d4d06bd7040f48c90bdfa67f7551f",
            "3fa0870662bf4be5ace719b08ed3a932",
            "3bf0c0dc1d6047f5841faa8cc2278870",
            "c402b280047c46db96c29a73fa1dc97c",
            "b13fac6d9cd84de699fb665654e9b843",
            "d18a8bd26de64baaba9f754090110990",
            "d118264a32a8478aa4ed2aed58ea7221",
            "4739024735784a878b911cbf07e2f0c1",
            "55f84df7baa248ae9f130fd0919f1da7",
            "8c2bc4a902b94e42a97f76728a191d47",
            "cd5a3241800340b5b25845fea6444351",
            "bcabc6c7a9054321b49f690913a582ef",
            "320a444c2bb84707bb9ec9d5037b9121",
            "2b0308fa0cdb4012ae90efc7af5431d5",
            "f9012abb71264574b7be8a448dd5f644",
            "a551fcaad284489181035f88ac0ed0b2",
            "047e9ee15d864dea91cd9cd134a23e7f",
            "d77db38d260d44309df76e9e60b5a984",
            "a240a4543bc54361bcdf5819654e246c",
            "032fac9226e448deab09e1b65aa5da4a",
            "a6bca5ecbb8442b8be8cc0e96bd3f77f",
            "c75810eb8c8545f0b005a8656142c094",
            "adaa44bcb2384c6f9f16a98b97d3942f",
            "f601b10d92b84dbdb80ad98e57158daa",
            "a3cfe61e5fc646eda8eb598fb9f47eb6",
            "c188c38687c04233be8d511d994b5df3",
            "f17dfd0cbf334964965a94eb5b018a99",
            "8261bf7f47384f7cb51ae43af9095782",
            "d2cb82889d144a90859db38218bffa3b",
            "30883bb622f442a9994d8712a1b392ef"
          ]
        },
        "outputId": "299f9ced-ed39-4020-fe0a-9ef7904545e3"
      },
      "source": [
        "profile = ProfileReport(df_data)\n",
        "\n",
        "# profile.to_notebook_iframe()\n",
        "profile.to_file(output_file='Stroke_Profiling.html')"
      ],
      "execution_count": null,
      "outputs": [
        {
          "output_type": "display_data",
          "data": {
            "application/vnd.jupyter.widget-view+json": {
              "model_id": "a11e846cc4a84b05b9ba30e8d4cecdd9",
              "version_minor": 0,
              "version_major": 2
            },
            "text/plain": [
              "Summarize dataset:   0%|          | 0/25 [00:00<?, ?it/s]"
            ]
          },
          "metadata": {
            "tags": []
          }
        },
        {
          "output_type": "display_data",
          "data": {
            "application/vnd.jupyter.widget-view+json": {
              "model_id": "afa0b38a8d0e4d79830cbc49c28ccc6b",
              "version_minor": 0,
              "version_major": 2
            },
            "text/plain": [
              "Generate report structure:   0%|          | 0/1 [00:00<?, ?it/s]"
            ]
          },
          "metadata": {
            "tags": []
          }
        },
        {
          "output_type": "display_data",
          "data": {
            "application/vnd.jupyter.widget-view+json": {
              "model_id": "55f84df7baa248ae9f130fd0919f1da7",
              "version_minor": 0,
              "version_major": 2
            },
            "text/plain": [
              "Render HTML:   0%|          | 0/1 [00:00<?, ?it/s]"
            ]
          },
          "metadata": {
            "tags": []
          }
        },
        {
          "output_type": "display_data",
          "data": {
            "application/vnd.jupyter.widget-view+json": {
              "model_id": "032fac9226e448deab09e1b65aa5da4a",
              "version_minor": 0,
              "version_major": 2
            },
            "text/plain": [
              "Export report to file:   0%|          | 0/1 [00:00<?, ?it/s]"
            ]
          },
          "metadata": {
            "tags": []
          }
        }
      ]
    },
    {
      "cell_type": "markdown",
      "metadata": {
        "id": "jfqYbF3s6B2k"
      },
      "source": [
        "#### Conventional EDA Codings"
      ]
    },
    {
      "cell_type": "code",
      "metadata": {
        "colab": {
          "base_uri": "https://localhost:8080/"
        },
        "id": "3i2txu3zrB94",
        "outputId": "39584e72-dd80-4232-8c69-48ad4f722456"
      },
      "source": [
        "# Print a concise summary of df_data DataFrame.\n",
        "df_data.info()\n",
        "# Observation: there are null values in bmi column "
      ],
      "execution_count": null,
      "outputs": [
        {
          "output_type": "stream",
          "text": [
            "<class 'pandas.core.frame.DataFrame'>\n",
            "RangeIndex: 5110 entries, 0 to 5109\n",
            "Data columns (total 12 columns):\n",
            " #   Column             Non-Null Count  Dtype  \n",
            "---  ------             --------------  -----  \n",
            " 0   id                 5110 non-null   int64  \n",
            " 1   gender             5110 non-null   object \n",
            " 2   age                5110 non-null   float64\n",
            " 3   hypertension       5110 non-null   int64  \n",
            " 4   heart_disease      5110 non-null   int64  \n",
            " 5   ever_married       5110 non-null   object \n",
            " 6   work_type          5110 non-null   object \n",
            " 7   Residence_type     5110 non-null   object \n",
            " 8   avg_glucose_level  5110 non-null   float64\n",
            " 9   bmi                4909 non-null   float64\n",
            " 10  smoking_status     5110 non-null   object \n",
            " 11  stroke             5110 non-null   int64  \n",
            "dtypes: float64(3), int64(4), object(5)\n",
            "memory usage: 479.2+ KB\n"
          ],
          "name": "stdout"
        }
      ]
    },
    {
      "cell_type": "code",
      "metadata": {
        "colab": {
          "base_uri": "https://localhost:8080/"
        },
        "id": "V4ULZzOjrB94",
        "outputId": "13a63a40-81c8-479e-e8fe-0879e1c63d94"
      },
      "source": [
        "# Let us first clean our data\n",
        "# 1) Look for any missing values\n",
        "df_data.isna().any()"
      ],
      "execution_count": null,
      "outputs": [
        {
          "output_type": "execute_result",
          "data": {
            "text/plain": [
              "id                   False\n",
              "gender               False\n",
              "age                  False\n",
              "hypertension         False\n",
              "heart_disease        False\n",
              "ever_married         False\n",
              "work_type            False\n",
              "Residence_type       False\n",
              "avg_glucose_level    False\n",
              "bmi                   True\n",
              "smoking_status       False\n",
              "stroke               False\n",
              "dtype: bool"
            ]
          },
          "metadata": {
            "tags": []
          },
          "execution_count": 10
        }
      ]
    },
    {
      "cell_type": "code",
      "metadata": {
        "id": "6PCfKWFirB95"
      },
      "source": [
        "# 2) Since the ID column is unique, we will drop the column\n",
        "df_data = df_data.drop(['id'], axis=1)\n",
        "# 3) Drop 1 patient who is categorized as ‘Other’ in the gender column.\n",
        "df_data = df_data[df_data['gender'] != 'Other']"
      ],
      "execution_count": null,
      "outputs": []
    },
    {
      "cell_type": "code",
      "metadata": {
        "id": "RmzwVsSprB95"
      },
      "source": [
        "# 4) Replace the missing values with mean of bmi attribute\n",
        "df_data['bmi'].fillna(np.round(df_data['bmi'].mean(), 1), inplace = True)"
      ],
      "execution_count": null,
      "outputs": []
    },
    {
      "cell_type": "markdown",
      "metadata": {
        "id": "8dwsrNQKrB96"
      },
      "source": [
        "### Let's analyze the data further and see how the independent variables are related to stroke."
      ]
    },
    {
      "cell_type": "code",
      "metadata": {
        "colab": {
          "base_uri": "https://localhost:8080/",
          "height": 335
        },
        "id": "-dmE9Ct6rB96",
        "outputId": "99a51373-b397-428f-ae0f-3cd74e867b40"
      },
      "source": [
        "# Lets look at the continuous variables and their impact on stroke.\n",
        "\n",
        "cvars = ['age', 'avg_glucose_level', 'bmi']\n",
        "fig,ax = plt.subplots(1,3,figsize=(20,5))\n",
        "\n",
        "for i,x in enumerate(cvars):\n",
        "    ax[i].hist(df_data[x][df_data['stroke']==0],label='stroke=0',bins=30)\n",
        "    ax[i].hist(df_data[x][df_data['stroke']==1],label='stroke=1',bins=30)\n",
        "    ax[i].set(xlabel=x,ylabel='count')\n",
        "    ax[i].legend()"
      ],
      "execution_count": null,
      "outputs": [
        {
          "output_type": "display_data",
          "data": {
            "image/png": "[encoded data removed]",
            "text/plain": [
              "<Figure size 1440x360 with 3 Axes>"
            ]
          },
          "metadata": {
            "tags": [],
            "needs_background": "light"
          }
        }
      ]
    },
    {
      "cell_type": "code",
      "metadata": {
        "colab": {
          "base_uri": "https://localhost:8080/"
        },
        "id": "knrwG3By1OYJ",
        "outputId": "d3c7d64e-4682-4734-b5f7-951bf9b036c4"
      },
      "source": [
        "df_data.columns"
      ],
      "execution_count": null,
      "outputs": [
        {
          "output_type": "execute_result",
          "data": {
            "text/plain": [
              "Index(['gender', 'age', 'hypertension', 'heart_disease', 'ever_married',\n",
              "       'work_type', 'Residence_type', 'avg_glucose_level', 'bmi',\n",
              "       'smoking_status', 'stroke'],\n",
              "      dtype='object')"
            ]
          },
          "metadata": {
            "tags": []
          },
          "execution_count": 14
        }
      ]
    },
    {
      "cell_type": "code",
      "metadata": {
        "id": "XX9Vhm1XMD_s"
      },
      "source": [
        "# Function to create 100% stacked bar chart\n",
        "def get_100_percent_stacked_bar_chart(column, width = 0.5):\n",
        "    # Get the count of records by column and stroke\n",
        "    df_breakdown = df_data.groupby([column, 'stroke'])['age'].count()\n",
        "    # Get the count of records by gender\n",
        "    df_total = df_data.groupby([column])['age'].count()\n",
        "    # Get the percentage for 100% stacked bar chart\n",
        "    df_pct = df_breakdown / df_total * 100\n",
        "    # Create proper DataFrame's format\n",
        "    df_pct = df_pct.unstack()\n",
        "    return df_pct.plot.bar(stacked=True, figsize=(6,6), width=width);"
      ],
      "execution_count": null,
      "outputs": []
    },
    {
      "cell_type": "code",
      "metadata": {
        "colab": {
          "base_uri": "https://localhost:8080/",
          "height": 1000
        },
        "id": "gRuIKtxqrB97",
        "outputId": "6321bae9-2730-4467-d54a-695a26afb18c"
      },
      "source": [
        "# Let's look at all the categorical variables, their distribution and impact on stroke\n",
        "\n",
        "categorical_var = ['gender', 'hypertension', 'heart_disease', 'ever_married', 'Residence_type', 'work_type', 'smoking_status']\n",
        "\n",
        "fig ,ax = plt.subplots(3,3,figsize=(20,15))\n",
        "for axi ,var in zip(ax.flat,categorical_var):\n",
        "    sns.countplot(x=df_data.stroke,hue=df_data[var],ax=axi)\n",
        "    get_100_percent_stacked_bar_chart(var)"
      ],
      "execution_count": null,
      "outputs": [
        {
          "output_type": "display_data",
          "data": {
            "image/png": "[encoded data removed]",
            "text/plain": [
              "<Figure size 1440x1080 with 9 Axes>"
            ]
          },
          "metadata": {
            "tags": [],
            "needs_background": "light"
          }
        },
        {
          "output_type": "display_data",
          "data": {
            "image/png": "[encoded data removed]",
            "text/plain": [
              "<Figure size 432x432 with 1 Axes>"
            ]
          },
          "metadata": {
            "tags": [],
            "needs_background": "light"
          }
        },
        {
          "output_type": "display_data",
          "data": {
            "image/png": "[encoded data removed]",
            "text/plain": [
              "<Figure size 432x432 with 1 Axes>"
            ]
          },
          "metadata": {
            "tags": [],
            "needs_background": "light"
          }
        },
        {
          "output_type": "display_data",
          "data": {
            "image/png": "[encoded data removed]",
            "text/plain": [
              "<Figure size 432x432 with 1 Axes>"
            ]
          },
          "metadata": {
            "tags": [],
            "needs_background": "light"
          }
        },
        {
          "output_type": "display_data",
          "data": {
            "image/png": "[encoded data removed]",
            "text/plain": [
              "<Figure size 432x432 with 1 Axes>"
            ]
          },
          "metadata": {
            "tags": [],
            "needs_background": "light"
          }
        },
        {
          "output_type": "display_data",
          "data": {
            "image/png": "[encoded data removed]",
            "text/plain": [
              "<Figure size 432x432 with 1 Axes>"
            ]
          },
          "metadata": {
            "tags": [],
            "needs_background": "light"
          }
        },
        {
          "output_type": "display_data",
          "data": {
            "image/png": "[encoded data removed]",
            "text/plain": [
              "<Figure size 432x432 with 1 Axes>"
            ]
          },
          "metadata": {
            "tags": [],
            "needs_background": "light"
          }
        },
        {
          "output_type": "display_data",
          "data": {
            "image/png": "[encoded data removed]",
            "text/plain": [
              "<Figure size 432x432 with 1 Axes>"
            ]
          },
          "metadata": {
            "tags": [],
            "needs_background": "light"
          }
        }
      ]
    },
    {
      "cell_type": "markdown",
      "metadata": {
        "id": "YALtRjmemm3b"
      },
      "source": [
        "#### Convert categorical variables into dummy/indicator variables"
      ]
    },
    {
      "cell_type": "code",
      "metadata": {
        "colab": {
          "base_uri": "https://localhost:8080/"
        },
        "id": "sw9Bx0R4rB97",
        "scrolled": true,
        "outputId": "56ab753b-a1d7-4d7c-cd61-b950236066b1"
      },
      "source": [
        "# 4) Encoding the data - Before training the model, we need to make sure the data is in a form that the model can understand\n",
        "# Use Label Encoder for all features with 2 classes\n",
        "le = LabelEncoder()\n",
        "for x in [i for i in df_data.columns if len(df_data[i].unique())==2]:\n",
        "    print(x, df_data[x].unique())\n",
        "    df_data[x]= le.fit_transform(df_data[x])"
      ],
      "execution_count": null,
      "outputs": [
        {
          "output_type": "stream",
          "text": [
            "gender ['Male' 'Female']\n",
            "hypertension [0 1]\n",
            "heart_disease [1 0]\n",
            "ever_married ['Yes' 'No']\n",
            "Residence_type ['Urban' 'Rural']\n",
            "stroke [1 0]\n"
          ],
          "name": "stdout"
        }
      ]
    },
    {
      "cell_type": "code",
      "metadata": {
        "id": "37N_AoZ6rB98"
      },
      "source": [
        "# 5) Encode variables with more than 2 Classes\n",
        "df = pd.get_dummies(df_data, columns= [i for i in df_data.columns if df_data[i].dtypes=='object'])  #drop_first=True"
      ],
      "execution_count": null,
      "outputs": []
    },
    {
      "cell_type": "code",
      "metadata": {
        "colab": {
          "base_uri": "https://localhost:8080/",
          "height": 231
        },
        "id": "qwmWivWcrB98",
        "outputId": "c675c4f7-813d-4959-ac48-d786328a6acc"
      },
      "source": [
        "df.head()"
      ],
      "execution_count": null,
      "outputs": [
        {
          "output_type": "execute_result",
          "data": {
            "text/html": [
              "<div>\n",
              "<style scoped>\n",
              "    .dataframe tbody tr th:only-of-type {\n",
              "        vertical-align: middle;\n",
              "    }\n",
              "\n",
              "    .dataframe tbody tr th {\n",
              "        vertical-align: top;\n",
              "    }\n",
              "\n",
              "    .dataframe thead th {\n",
              "        text-align: right;\n",
              "    }\n",
              "</style>\n",
              "<table border=\"1\" class=\"dataframe\">\n",
              "  <thead>\n",
              "    <tr style=\"text-align: right;\">\n",
              "      <th></th>\n",
              "      <th>gender</th>\n",
              "      <th>age</th>\n",
              "      <th>hypertension</th>\n",
              "      <th>heart_disease</th>\n",
              "      <th>ever_married</th>\n",
              "      <th>Residence_type</th>\n",
              "      <th>avg_glucose_level</th>\n",
              "      <th>bmi</th>\n",
              "      <th>stroke</th>\n",
              "      <th>work_type_Govt_job</th>\n",
              "      <th>work_type_Never_worked</th>\n",
              "      <th>work_type_Private</th>\n",
              "      <th>work_type_Self-employed</th>\n",
              "      <th>work_type_children</th>\n",
              "      <th>smoking_status_Unknown</th>\n",
              "      <th>smoking_status_formerly smoked</th>\n",
              "      <th>smoking_status_never smoked</th>\n",
              "      <th>smoking_status_smokes</th>\n",
              "    </tr>\n",
              "  </thead>\n",
              "  <tbody>\n",
              "    <tr>\n",
              "      <th>0</th>\n",
              "      <td>1</td>\n",
              "      <td>67.0</td>\n",
              "      <td>0</td>\n",
              "      <td>1</td>\n",
              "      <td>1</td>\n",
              "      <td>1</td>\n",
              "      <td>228.69</td>\n",
              "      <td>36.6</td>\n",
              "      <td>1</td>\n",
              "      <td>0</td>\n",
              "      <td>0</td>\n",
              "      <td>1</td>\n",
              "      <td>0</td>\n",
              "      <td>0</td>\n",
              "      <td>0</td>\n",
              "      <td>1</td>\n",
              "      <td>0</td>\n",
              "      <td>0</td>\n",
              "    </tr>\n",
              "    <tr>\n",
              "      <th>1</th>\n",
              "      <td>0</td>\n",
              "      <td>61.0</td>\n",
              "      <td>0</td>\n",
              "      <td>0</td>\n",
              "      <td>1</td>\n",
              "      <td>0</td>\n",
              "      <td>202.21</td>\n",
              "      <td>28.9</td>\n",
              "      <td>1</td>\n",
              "      <td>0</td>\n",
              "      <td>0</td>\n",
              "      <td>0</td>\n",
              "      <td>1</td>\n",
              "      <td>0</td>\n",
              "      <td>0</td>\n",
              "      <td>0</td>\n",
              "      <td>1</td>\n",
              "      <td>0</td>\n",
              "    </tr>\n",
              "    <tr>\n",
              "      <th>2</th>\n",
              "      <td>1</td>\n",
              "      <td>80.0</td>\n",
              "      <td>0</td>\n",
              "      <td>1</td>\n",
              "      <td>1</td>\n",
              "      <td>0</td>\n",
              "      <td>105.92</td>\n",
              "      <td>32.5</td>\n",
              "      <td>1</td>\n",
              "      <td>0</td>\n",
              "      <td>0</td>\n",
              "      <td>1</td>\n",
              "      <td>0</td>\n",
              "      <td>0</td>\n",
              "      <td>0</td>\n",
              "      <td>0</td>\n",
              "      <td>1</td>\n",
              "      <td>0</td>\n",
              "    </tr>\n",
              "    <tr>\n",
              "      <th>3</th>\n",
              "      <td>0</td>\n",
              "      <td>49.0</td>\n",
              "      <td>0</td>\n",
              "      <td>0</td>\n",
              "      <td>1</td>\n",
              "      <td>1</td>\n",
              "      <td>171.23</td>\n",
              "      <td>34.4</td>\n",
              "      <td>1</td>\n",
              "      <td>0</td>\n",
              "      <td>0</td>\n",
              "      <td>1</td>\n",
              "      <td>0</td>\n",
              "      <td>0</td>\n",
              "      <td>0</td>\n",
              "      <td>0</td>\n",
              "      <td>0</td>\n",
              "      <td>1</td>\n",
              "    </tr>\n",
              "    <tr>\n",
              "      <th>4</th>\n",
              "      <td>0</td>\n",
              "      <td>79.0</td>\n",
              "      <td>1</td>\n",
              "      <td>0</td>\n",
              "      <td>1</td>\n",
              "      <td>0</td>\n",
              "      <td>174.12</td>\n",
              "      <td>24.0</td>\n",
              "      <td>1</td>\n",
              "      <td>0</td>\n",
              "      <td>0</td>\n",
              "      <td>0</td>\n",
              "      <td>1</td>\n",
              "      <td>0</td>\n",
              "      <td>0</td>\n",
              "      <td>0</td>\n",
              "      <td>1</td>\n",
              "      <td>0</td>\n",
              "    </tr>\n",
              "  </tbody>\n",
              "</table>\n",
              "</div>"
            ],
            "text/plain": [
              "   gender   age  ...  smoking_status_never smoked  smoking_status_smokes\n",
              "0       1  67.0  ...                            0                      0\n",
              "1       0  61.0  ...                            1                      0\n",
              "2       1  80.0  ...                            1                      0\n",
              "3       0  49.0  ...                            0                      1\n",
              "4       0  79.0  ...                            1                      0\n",
              "\n",
              "[5 rows x 18 columns]"
            ]
          },
          "metadata": {
            "tags": []
          },
          "execution_count": 19
        }
      ]
    },
    {
      "cell_type": "code",
      "metadata": {
        "colab": {
          "base_uri": "https://localhost:8080/"
        },
        "id": "UbScSiAT_UKG",
        "outputId": "2c6120e6-8a8f-4de5-b040-7bc6f11c3c3c"
      },
      "source": [
        "# limit to numerical data using df.select_dtypes()\n",
        "# all features converted to numerical\n",
        "df_num = df.select_dtypes(include=['number'])\n",
        "df_num.nunique()"
      ],
      "execution_count": null,
      "outputs": [
        {
          "output_type": "execute_result",
          "data": {
            "text/plain": [
              "gender                               2\n",
              "age                                104\n",
              "hypertension                         2\n",
              "heart_disease                        2\n",
              "ever_married                         2\n",
              "Residence_type                       2\n",
              "avg_glucose_level                 3978\n",
              "bmi                                418\n",
              "stroke                               2\n",
              "work_type_Govt_job                   2\n",
              "work_type_Never_worked               2\n",
              "work_type_Private                    2\n",
              "work_type_Self-employed              2\n",
              "work_type_children                   2\n",
              "smoking_status_Unknown               2\n",
              "smoking_status_formerly smoked       2\n",
              "smoking_status_never smoked          2\n",
              "smoking_status_smokes                2\n",
              "dtype: int64"
            ]
          },
          "metadata": {
            "tags": []
          },
          "execution_count": 20
        }
      ]
    },
    {
      "cell_type": "markdown",
      "metadata": {
        "id": "V_YAdtAqux1m"
      },
      "source": [
        "#### Imbalanced Target Variable"
      ]
    },
    {
      "cell_type": "code",
      "metadata": {
        "colab": {
          "base_uri": "https://localhost:8080/",
          "height": 279
        },
        "id": "5y4kVeEqhjGG",
        "outputId": "f7c1165c-037e-4ed9-c286-807c4b441045"
      },
      "source": [
        "# To visualize how well balanced the target (dependent) variable is\n",
        "## This is moderate imbalanced.\n",
        "_ = sns.countplot(x=df['stroke'])"
      ],
      "execution_count": null,
      "outputs": [
        {
          "output_type": "display_data",
          "data": {
            "image/png": "[encoded data removed]",
            "text/plain": [
              "<Figure size 432x288 with 1 Axes>"
            ]
          },
          "metadata": {
            "tags": [],
            "needs_background": "light"
          }
        }
      ]
    },
    {
      "cell_type": "markdown",
      "metadata": {
        "id": "X2ue-srOKp6y"
      },
      "source": [
        "### Imbalance Target Variable: SMOTE\n",
        "Use SMOTE to create oversampling of data with Class balance - 50:50"
      ]
    },
    {
      "cell_type": "code",
      "metadata": {
        "colab": {
          "base_uri": "https://localhost:8080/"
        },
        "id": "POSU9HrWh0oJ",
        "outputId": "21cf8f72-e3eb-4ab2-d0aa-8314fabb1717"
      },
      "source": [
        "df = df.dropna()\n",
        "df.isna().any().any()"
      ],
      "execution_count": null,
      "outputs": [
        {
          "output_type": "execute_result",
          "data": {
            "text/plain": [
              "False"
            ]
          },
          "metadata": {
            "tags": []
          },
          "execution_count": 22
        }
      ]
    },
    {
      "cell_type": "code",
      "metadata": {
        "id": "wiYcYBpNhqth"
      },
      "source": [
        "X=df.drop('stroke',axis=1)  # input\n",
        "y=df['stroke']              # output (dependent variable)"
      ],
      "execution_count": null,
      "outputs": []
    },
    {
      "cell_type": "code",
      "metadata": {
        "colab": {
          "base_uri": "https://localhost:8080/"
        },
        "id": "yWHLiH6G9SUH",
        "outputId": "174e24cd-b799-455c-f55f-a8756fd85f96"
      },
      "source": [
        "from imblearn.over_sampling import SMOTE \n",
        "\n",
        "sm = SMOTE(random_state=42)\n",
        "\n",
        "# create new samples in order that the class balance is perfect – 50:50. \n",
        "X_sm, y_sm = sm.fit_resample(X, y)\n",
        "\n",
        "print(f'''Shape of X before SMOTE: {X.shape}\n",
        "Shape of X after SMOTE: {X_sm.shape}\n",
        "Shape of y after SMOTE: {y_sm.shape}''')\n",
        "\n",
        "print('\\nBalance of positive and negative classes (%):')\n",
        "y_sm.value_counts(normalize=True) * 100"
      ],
      "execution_count": null,
      "outputs": [
        {
          "output_type": "stream",
          "text": [
            "Shape of X before SMOTE: (5109, 17)\n",
            "Shape of X after SMOTE: (9720, 17)\n",
            "Shape of y after SMOTE: (9720,)\n",
            "\n",
            "Balance of positive and negative classes (%):\n"
          ],
          "name": "stdout"
        },
        {
          "output_type": "execute_result",
          "data": {
            "text/plain": [
              "1    50.0\n",
              "0    50.0\n",
              "Name: stroke, dtype: float64"
            ]
          },
          "metadata": {
            "tags": []
          },
          "execution_count": 24
        }
      ]
    },
    {
      "cell_type": "code",
      "metadata": {
        "colab": {
          "base_uri": "https://localhost:8080/",
          "height": 279
        },
        "id": "tKOjNkTdSc4V",
        "outputId": "9b616842-e86a-4a90-c36d-dc88bd9bb571"
      },
      "source": [
        "_ = sns.countplot(x=y_sm)"
      ],
      "execution_count": null,
      "outputs": [
        {
          "output_type": "display_data",
          "data": {
            "image/png": "[encoded data removed]",
            "text/plain": [
              "<Figure size 432x288 with 1 Axes>"
            ]
          },
          "metadata": {
            "tags": [],
            "needs_background": "light"
          }
        }
      ]
    },
    {
      "cell_type": "markdown",
      "metadata": {
        "id": "N9T3ballrB98"
      },
      "source": [
        "### Step 3: Split the data and train the models\n",
        "\n",
        "1) Divide our independent and dependent variable into two separate variables.\n",
        "\n",
        "2) Split the data into training and testing datasets."
      ]
    },
    {
      "cell_type": "code",
      "metadata": {
        "id": "MXFQNF_-rB98"
      },
      "source": [
        "# Splitting our data into training and testing sets\n",
        "X_train, X_test, y_train, y_test = train_test_split(X_sm ,y_sm, \n",
        "                                                    test_size = 0.25, \n",
        "                                                    shuffle=True, \n",
        "                                                    stratify=y_sm,\n",
        "                                                    random_state=SEED)"
      ],
      "execution_count": null,
      "outputs": []
    },
    {
      "cell_type": "markdown",
      "metadata": {
        "id": "vn4CSuNarB98"
      },
      "source": [
        "#### Feature scaling: MinMaxScaler "
      ]
    },
    {
      "cell_type": "code",
      "metadata": {
        "id": "S-DakWCBrB99"
      },
      "source": [
        "# MinMaxScaler\n",
        "from sklearn.preprocessing import MinMaxScaler\n",
        "\n",
        "to_scale = X_train.columns\n",
        "mms = MinMaxScaler()\n",
        "train_scaled = mms.fit_transform(X_train)\n",
        "X_train_scaled = pd.DataFrame(train_scaled, columns=to_scale)\n",
        "test_scaled = mms.transform(X_test)\n",
        "X_test_scaled = pd.DataFrame(test_scaled, columns=to_scale)"
      ],
      "execution_count": null,
      "outputs": []
    },
    {
      "cell_type": "markdown",
      "metadata": {
        "id": "bkDZIf4arB99"
      },
      "source": [
        "#### Baseline model using Logistic Regression"
      ]
    },
    {
      "cell_type": "code",
      "metadata": {
        "id": "HftV8EUErB99"
      },
      "source": [
        "logreg = LogisticRegression()"
      ],
      "execution_count": null,
      "outputs": []
    },
    {
      "cell_type": "code",
      "metadata": {
        "colab": {
          "base_uri": "https://localhost:8080/"
        },
        "id": "bTygYXEprB99",
        "outputId": "8596467d-4b2f-499d-f541-8f99c865f63a"
      },
      "source": [
        "# K-fold cross validation using F1-score as scorer\n",
        "scores = cross_val_score(logreg, \n",
        "                         X_train_scaled, \n",
        "                         y_train, \n",
        "                         cv=5, \n",
        "                         scoring='f1_macro')\n",
        "print('F1 scores:', scores)\n",
        "print('Mean & standard deviation: {:.2} {:.2f}'.format(scores.mean(), np.std(scores)))"
      ],
      "execution_count": null,
      "outputs": [
        {
          "output_type": "stream",
          "text": [
            "F1 scores: [0.91756502 0.92376758 0.92104278 0.90450755 0.92097729]\n",
            "Mean & standard deviation: 0.92 0.01\n"
          ],
          "name": "stdout"
        }
      ]
    },
    {
      "cell_type": "markdown",
      "metadata": {
        "id": "2jQzK0ZCrB99"
      },
      "source": [
        "#### Model Selection - Train and evaluate multiple models"
      ]
    },
    {
      "cell_type": "code",
      "metadata": {
        "id": "IAGRlsoBrB9-"
      },
      "source": [
        "# Lists to keep track of model metrics\n",
        "models = []\n",
        "precision_list = []\n",
        "recall_list = []\n",
        "f1_score_list = []\n",
        "training_acc_list = []\n",
        "testing_acc_list = []\n",
        "false_negative_list = []"
      ],
      "execution_count": null,
      "outputs": []
    },
    {
      "cell_type": "markdown",
      "metadata": {
        "id": "5utP0rt54uLX"
      },
      "source": [
        "##### Logistic Regression"
      ]
    },
    {
      "cell_type": "code",
      "metadata": {
        "id": "fdMz6dw7rB9-"
      },
      "source": [
        "# Logistic Regression\n",
        "logreg = LogisticRegression(n_jobs=-1)"
      ],
      "execution_count": null,
      "outputs": []
    },
    {
      "cell_type": "code",
      "metadata": {
        "colab": {
          "base_uri": "https://localhost:8080/"
        },
        "id": "0avUiIDIrB9-",
        "outputId": "feeebed5-42be-4803-8b0a-5818a2dd70dd"
      },
      "source": [
        "%%time\n",
        "# Hyperparameter tuning using K-fold cross validation\n",
        "# ... via Grid Search method\n",
        "param_grid = {'penalty': ['l1', 'l2', 'elasticnet', 'none'],\n",
        "              'C': np.logspace(-2, 2, 5)}\n",
        "\n",
        "gs_logreg = GridSearchCV(logreg,\n",
        "                      param_grid, \n",
        "                      cv=5,\n",
        "                      scoring='f1_macro',\n",
        "                      #scoring='roc_auc_ovr',\n",
        "                      n_jobs=-1)\n",
        "gs_logreg.fit(X_train_scaled, y_train)"
      ],
      "execution_count": null,
      "outputs": [
        {
          "output_type": "stream",
          "text": [
            "CPU times: user 380 ms, sys: 88.7 ms, total: 469 ms\n",
            "Wall time: 5.3 s\n"
          ],
          "name": "stdout"
        },
        {
          "output_type": "stream",
          "text": [
            "/usr/local/lib/python3.7/dist-packages/sklearn/model_selection/_search.py:921: UserWarning: One or more of the test scores are non-finite: [       nan 0.89689663        nan 0.91688031        nan 0.91382427\n",
            "        nan 0.91688031        nan 0.91757204        nan 0.91688031\n",
            "        nan 0.91688415        nan 0.91688031        nan 0.91674373\n",
            "        nan 0.91688031]\n",
            "  category=UserWarning\n"
          ],
          "name": "stderr"
        }
      ]
    },
    {
      "cell_type": "code",
      "metadata": {
        "colab": {
          "base_uri": "https://localhost:8080/"
        },
        "id": "wGLSSmRrrB9_",
        "outputId": "209fdf31-efee-4475-f2ec-0b8a990c7a24"
      },
      "source": [
        "# Best model hyperparameters and score\n",
        "print(gs_logreg.best_estimator_)\n",
        "print(gs_logreg.best_params_)\n",
        "print(gs_logreg.best_score_)"
      ],
      "execution_count": null,
      "outputs": [
        {
          "output_type": "stream",
          "text": [
            "LogisticRegression(n_jobs=-1)\n",
            "{'C': 1.0, 'penalty': 'l2'}\n",
            "0.9175720432740959\n"
          ],
          "name": "stdout"
        }
      ]
    },
    {
      "cell_type": "code",
      "metadata": {
        "colab": {
          "base_uri": "https://localhost:8080/"
        },
        "id": "oB-oZZv8rB9_",
        "outputId": "48f4acdf-0288-447b-9d4b-1795ce4d6753"
      },
      "source": [
        "# Using best estimator found by GridSearchCV\n",
        "logreg = gs_logreg.best_estimator_\n",
        "logreg.fit(X_train_scaled, y_train)"
      ],
      "execution_count": null,
      "outputs": [
        {
          "output_type": "execute_result",
          "data": {
            "text/plain": [
              "LogisticRegression(n_jobs=-1)"
            ]
          },
          "metadata": {
            "tags": []
          },
          "execution_count": 34
        }
      ]
    },
    {
      "cell_type": "code",
      "metadata": {
        "id": "olVXTpdyrB9_"
      },
      "source": [
        "y_pred = logreg.predict (X_test_scaled)"
      ],
      "execution_count": null,
      "outputs": []
    },
    {
      "cell_type": "code",
      "metadata": {
        "colab": {
          "base_uri": "https://localhost:8080/"
        },
        "id": "r9JM8sX6rB9_",
        "outputId": "c67781bf-46bd-4892-b309-c0a5249db37b"
      },
      "source": [
        "print(\"Classification report:\")\n",
        "print()\n",
        "print(classification_report(y_test, y_pred))\n",
        "print()\n",
        "\n",
        "# Confusion Matrix\n",
        "print(\"Confusion Matrix:\")\n",
        "confusion_matrix(y_test, y_pred)"
      ],
      "execution_count": null,
      "outputs": [
        {
          "output_type": "stream",
          "text": [
            "Classification report:\n",
            "\n",
            "              precision    recall  f1-score   support\n",
            "\n",
            "           0       0.89      0.96      0.92      1215\n",
            "           1       0.96      0.88      0.92      1215\n",
            "\n",
            "    accuracy                           0.92      2430\n",
            "   macro avg       0.92      0.92      0.92      2430\n",
            "weighted avg       0.92      0.92      0.92      2430\n",
            "\n",
            "\n",
            "Confusion Matrix:\n"
          ],
          "name": "stdout"
        },
        {
          "output_type": "execute_result",
          "data": {
            "text/plain": [
              "array([[1165,   50],\n",
              "       [ 140, 1075]])"
            ]
          },
          "metadata": {
            "tags": []
          },
          "execution_count": 36
        }
      ]
    },
    {
      "cell_type": "code",
      "metadata": {
        "colab": {
          "base_uri": "https://localhost:8080/",
          "height": 388
        },
        "id": "ckPD7iQcF0mm",
        "outputId": "7db5228a-4de8-4555-c6f3-2530791b2cd3"
      },
      "source": [
        "# Plot the confusion matrix using Seaborn library\n",
        "# y_test = Actuals, y_pred = Predicted\n",
        "plt.figure(figsize=(8,6))\n",
        "class_names = ['Non Stroke','Stroke']\n",
        "_ = sns.heatmap(confusion_matrix(y_test, y_pred), \n",
        "                annot=True, annot_kws={\"size\": 18},\n",
        "                cmap=plt.cm.Blues,fmt='.4g',\n",
        "                xticklabels=class_names, yticklabels=class_names)\n",
        "_ = plt.ylabel('Actuals', fontweight='bold')\n",
        "_ = plt.xlabel('Predicted', fontweight='bold')"
      ],
      "execution_count": null,
      "outputs": [
        {
          "output_type": "display_data",
          "data": {
            "image/png": "[encoded data removed]",
            "text/plain": [
              "<Figure size 576x432 with 2 Axes>"
            ]
          },
          "metadata": {
            "tags": [],
            "needs_background": "light"
          }
        }
      ]
    },
    {
      "cell_type": "code",
      "metadata": {
        "id": "iXQ4yajwrB-A"
      },
      "source": [
        "models.append('Logistic Regression')\n",
        "precision_list.append(precision_score(y_test, y_pred, average='macro'))\n",
        "recall_list.append(recall_score(y_test, y_pred, average='macro'))\n",
        "f1_score_list.append(f1_score(y_test, y_pred, average='macro'))\n",
        "training_acc_list.append(accuracy_score(y_train, logreg.predict(X_train_scaled)))\n",
        "testing_acc_list.append(accuracy_score(y_test, y_pred))\n",
        "false_negative_list.append(confusion_matrix(y_test, y_pred)[1,0])"
      ],
      "execution_count": null,
      "outputs": []
    },
    {
      "cell_type": "markdown",
      "metadata": {
        "id": "MgsyOVSn429i"
      },
      "source": [
        "##### Random Forest"
      ]
    },
    {
      "cell_type": "code",
      "metadata": {
        "id": "6wrULpZxrB-A"
      },
      "source": [
        "# Random Forest\n",
        "rf = RandomForestClassifier(n_jobs=-1)"
      ],
      "execution_count": null,
      "outputs": []
    },
    {
      "cell_type": "code",
      "metadata": {
        "colab": {
          "base_uri": "https://localhost:8080/"
        },
        "id": "qqBW1x6yrB-A",
        "outputId": "608a2498-771b-4098-afba-b534dc847936"
      },
      "source": [
        "%%time\n",
        "# Hyperparameter tuning using K-fold cross validation\n",
        "# ... via Grid Search method\n",
        "param_grid = {'n_estimators': [50, 100, 150, 250],\n",
        "              'criterion': ['gini', 'entropy'],\n",
        "              'max_depth': [5, 10, 15, 20],\n",
        "              'min_samples_split': [2, 3, 5]}\n",
        "\n",
        "gs_rf = GridSearchCV(rf,\n",
        "                    param_grid, \n",
        "                    cv=5,\n",
        "                    scoring='f1_macro',\n",
        "                    #scoring='roc_auc_ovr',\n",
        "                    n_jobs=-1)\n",
        "gs_rf.fit(X_train_scaled, y_train)"
      ],
      "execution_count": null,
      "outputs": [
        {
          "output_type": "stream",
          "text": [
            "CPU times: user 7.61 s, sys: 481 ms, total: 8.09 s\n",
            "Wall time: 5min 52s\n"
          ],
          "name": "stdout"
        }
      ]
    },
    {
      "cell_type": "code",
      "metadata": {
        "id": "1O9rWZy3rB-A",
        "colab": {
          "base_uri": "https://localhost:8080/"
        },
        "outputId": "23892936-0e04-48b8-f13a-46cdd9edbbc5"
      },
      "source": [
        "# Best model hyperparameters and score\n",
        "print(gs_rf.best_estimator_)\n",
        "print(gs_rf.best_params_)\n",
        "print(gs_rf.best_score_)"
      ],
      "execution_count": null,
      "outputs": [
        {
          "output_type": "stream",
          "text": [
            "RandomForestClassifier(criterion='entropy', max_depth=20, min_samples_split=3,\n",
            "                       n_estimators=150, n_jobs=-1)\n",
            "{'criterion': 'entropy', 'max_depth': 20, 'min_samples_split': 3, 'n_estimators': 150}\n",
            "0.9659760450667395\n"
          ],
          "name": "stdout"
        }
      ]
    },
    {
      "cell_type": "code",
      "metadata": {
        "id": "7vIqEwCZrB-B",
        "colab": {
          "base_uri": "https://localhost:8080/"
        },
        "outputId": "e565b34d-8d4a-4cd8-b8bc-e74370967209"
      },
      "source": [
        "# Using best estimator found by GridSearchCV\n",
        "rf = gs_rf.best_estimator_\n",
        "rf.fit(X_train_scaled, y_train)"
      ],
      "execution_count": null,
      "outputs": [
        {
          "output_type": "execute_result",
          "data": {
            "text/plain": [
              "RandomForestClassifier(criterion='entropy', max_depth=20, min_samples_split=3,\n",
              "                       n_estimators=150, n_jobs=-1)"
            ]
          },
          "metadata": {
            "tags": []
          },
          "execution_count": 42
        }
      ]
    },
    {
      "cell_type": "code",
      "metadata": {
        "id": "mlr7Q__ZrB-B"
      },
      "source": [
        "y_pred = rf.predict(X_test_scaled)"
      ],
      "execution_count": null,
      "outputs": []
    },
    {
      "cell_type": "code",
      "metadata": {
        "id": "ob8qPuJOrB-B",
        "colab": {
          "base_uri": "https://localhost:8080/"
        },
        "outputId": "230e4e7f-0369-419e-fd03-6a80dfe05c15"
      },
      "source": [
        "print(\"Classification report:\")\n",
        "print()\n",
        "print(classification_report(y_test, y_pred))\n",
        "print()\n",
        "\n",
        "# Confusion Matrix\n",
        "print(\"Confusion Matrix:\")\n",
        "confusion_matrix(y_test, y_pred)"
      ],
      "execution_count": null,
      "outputs": [
        {
          "output_type": "stream",
          "text": [
            "Classification report:\n",
            "\n",
            "              precision    recall  f1-score   support\n",
            "\n",
            "           0       0.96      0.98      0.97      1215\n",
            "           1       0.98      0.96      0.97      1215\n",
            "\n",
            "    accuracy                           0.97      2430\n",
            "   macro avg       0.97      0.97      0.97      2430\n",
            "weighted avg       0.97      0.97      0.97      2430\n",
            "\n",
            "\n",
            "Confusion Matrix:\n"
          ],
          "name": "stdout"
        },
        {
          "output_type": "execute_result",
          "data": {
            "text/plain": [
              "array([[1195,   20],\n",
              "       [  44, 1171]])"
            ]
          },
          "metadata": {
            "tags": []
          },
          "execution_count": 44
        }
      ]
    },
    {
      "cell_type": "code",
      "metadata": {
        "id": "IWc_G3G7GnVi",
        "colab": {
          "base_uri": "https://localhost:8080/",
          "height": 388
        },
        "outputId": "bb91c33d-f5f7-4bf3-8a9b-76d1aa7ca783"
      },
      "source": [
        "# Plot the confusion matrix using Seaborn library\n",
        "# y_test = Actuals, y_pred = Predicted\n",
        "plt.figure(figsize=(8,6))\n",
        "class_names = ['Non Stroke','Stroke']\n",
        "_ = sns.heatmap(confusion_matrix(y_test, y_pred), \n",
        "                annot=True, annot_kws={\"size\": 18},\n",
        "                cmap=plt.cm.Blues,fmt='.4g',\n",
        "                xticklabels=class_names, yticklabels=class_names)\n",
        "_ = plt.ylabel('Actuals', fontweight='bold')\n",
        "_ = plt.xlabel('Predicted', fontweight='bold')"
      ],
      "execution_count": null,
      "outputs": [
        {
          "output_type": "display_data",
          "data": {
            "image/png": "[encoded data removed]",
            "text/plain": [
              "<Figure size 576x432 with 2 Axes>"
            ]
          },
          "metadata": {
            "tags": [],
            "needs_background": "light"
          }
        }
      ]
    },
    {
      "cell_type": "code",
      "metadata": {
        "id": "AZKg7ZJzrB-B"
      },
      "source": [
        "models.append('Random Forest')\n",
        "precision_list.append(precision_score(y_test, y_pred, average='macro'))\n",
        "recall_list.append(recall_score(y_test, y_pred, average='macro'))\n",
        "f1_score_list.append(f1_score(y_test, y_pred, average='macro'))\n",
        "training_acc_list.append(accuracy_score(y_train, rf.predict(X_train_scaled)))\n",
        "testing_acc_list.append(accuracy_score(y_test, y_pred))\n",
        "false_negative_list.append(confusion_matrix(y_test, y_pred)[1,0])"
      ],
      "execution_count": null,
      "outputs": []
    },
    {
      "cell_type": "markdown",
      "metadata": {
        "id": "QoWnswTIzHcn"
      },
      "source": [
        "##### Decision Tree"
      ]
    },
    {
      "cell_type": "code",
      "metadata": {
        "id": "lBe9xgKrzHcp"
      },
      "source": [
        "# Decision Tree\n",
        "\n",
        "# Import the Decision Tree algorithm\n",
        "from sklearn.tree import DecisionTreeClassifier\n",
        "\n",
        "dt = DecisionTreeClassifier(random_state=SEED)"
      ],
      "execution_count": null,
      "outputs": []
    },
    {
      "cell_type": "code",
      "metadata": {
        "id": "xpw1OVYvzHcq",
        "colab": {
          "base_uri": "https://localhost:8080/"
        },
        "outputId": "835cf588-ceec-48c8-d942-ae9f29b7fbed"
      },
      "source": [
        "%%time\n",
        "# Hyperparameter fine-tuning for Decision Tree on multi-class dataset\n",
        "# ... via Grid Search method\n",
        "param_grid = {'criterion': ['gini', 'entropy'],\n",
        "              'max_depth': [5, 10, 15, 20],\n",
        "              'min_samples_split': [2, 3, 5]}\n",
        "\n",
        "gs_dt = GridSearchCV(dt,\n",
        "                    param_grid, \n",
        "                    cv=5,\n",
        "                    scoring='f1_macro',\n",
        "                    #scoring='roc_auc_ovr',\n",
        "                    n_jobs=-1)\n",
        "gs_dt.fit(X_train_scaled, y_train)"
      ],
      "execution_count": null,
      "outputs": [
        {
          "output_type": "stream",
          "text": [
            "CPU times: user 418 ms, sys: 39.8 ms, total: 458 ms\n",
            "Wall time: 2.89 s\n"
          ],
          "name": "stdout"
        }
      ]
    },
    {
      "cell_type": "code",
      "metadata": {
        "id": "rR7Ji2ojzHcq",
        "colab": {
          "base_uri": "https://localhost:8080/"
        },
        "outputId": "559ddb1f-dca5-4739-f6a9-ebad7ac41168"
      },
      "source": [
        "# Best model hyperparameters and score\n",
        "print(gs_dt.best_estimator_)\n",
        "print(gs_dt.best_params_)\n",
        "print(gs_dt.best_score_)"
      ],
      "execution_count": null,
      "outputs": [
        {
          "output_type": "stream",
          "text": [
            "DecisionTreeClassifier(criterion='entropy', max_depth=15, min_samples_split=5,\n",
            "                       random_state=42)\n",
            "{'criterion': 'entropy', 'max_depth': 15, 'min_samples_split': 5}\n",
            "0.9386789259562306\n"
          ],
          "name": "stdout"
        }
      ]
    },
    {
      "cell_type": "code",
      "metadata": {
        "id": "YsDO21s7zHcr",
        "colab": {
          "base_uri": "https://localhost:8080/"
        },
        "outputId": "a47ac2d9-edd0-4e72-aa94-155fc7528faf"
      },
      "source": [
        "# Using best estimator found by GridSearchCV\n",
        "dt = gs_dt.best_estimator_\n",
        "dt.fit(X_train_scaled, y_train)"
      ],
      "execution_count": null,
      "outputs": [
        {
          "output_type": "execute_result",
          "data": {
            "text/plain": [
              "DecisionTreeClassifier(criterion='entropy', max_depth=15, min_samples_split=5,\n",
              "                       random_state=42)"
            ]
          },
          "metadata": {
            "tags": []
          },
          "execution_count": 50
        }
      ]
    },
    {
      "cell_type": "code",
      "metadata": {
        "id": "aadl8fUszHcr"
      },
      "source": [
        "y_pred = dt.predict(X_test_scaled)"
      ],
      "execution_count": null,
      "outputs": []
    },
    {
      "cell_type": "code",
      "metadata": {
        "id": "wpmbfjpWzHcs",
        "colab": {
          "base_uri": "https://localhost:8080/"
        },
        "outputId": "2b410dff-40ef-452d-b5b3-9b8b6d0e3cb9"
      },
      "source": [
        "print(\"Classification report:\")\n",
        "print()\n",
        "print(classification_report(y_test, y_pred))\n",
        "print()\n",
        "\n",
        "# Confusion Matrix\n",
        "print(\"Confusion Matrix:\")\n",
        "confusion_matrix(y_test, y_pred)"
      ],
      "execution_count": null,
      "outputs": [
        {
          "output_type": "stream",
          "text": [
            "Classification report:\n",
            "\n",
            "              precision    recall  f1-score   support\n",
            "\n",
            "           0       0.95      0.93      0.94      1215\n",
            "           1       0.93      0.95      0.94      1215\n",
            "\n",
            "    accuracy                           0.94      2430\n",
            "   macro avg       0.94      0.94      0.94      2430\n",
            "weighted avg       0.94      0.94      0.94      2430\n",
            "\n",
            "\n",
            "Confusion Matrix:\n"
          ],
          "name": "stdout"
        },
        {
          "output_type": "execute_result",
          "data": {
            "text/plain": [
              "array([[1133,   82],\n",
              "       [  65, 1150]])"
            ]
          },
          "metadata": {
            "tags": []
          },
          "execution_count": 52
        }
      ]
    },
    {
      "cell_type": "code",
      "metadata": {
        "id": "PXLT9vbgJo3D",
        "colab": {
          "base_uri": "https://localhost:8080/",
          "height": 388
        },
        "outputId": "a2c619a8-ab3b-4043-fa2b-c856c8490a46"
      },
      "source": [
        "# Plot the confusion matrix using Seaborn library\n",
        "# y_test = Actuals, y_pred = Predicted\n",
        "plt.figure(figsize=(8,6))\n",
        "class_names = ['Non Stroke','Stroke']\n",
        "_ = sns.heatmap(confusion_matrix(y_test, y_pred), \n",
        "                annot=True, annot_kws={\"size\": 18},\n",
        "                cmap=plt.cm.Blues,fmt='.4g',\n",
        "                xticklabels=class_names, yticklabels=class_names)\n",
        "_ = plt.ylabel('Actuals', fontweight='bold')\n",
        "_ = plt.xlabel('Predicted', fontweight='bold')"
      ],
      "execution_count": null,
      "outputs": [
        {
          "output_type": "display_data",
          "data": {
            "image/png": "[encoded data removed]",
            "text/plain": [
              "<Figure size 576x432 with 2 Axes>"
            ]
          },
          "metadata": {
            "tags": [],
            "needs_background": "light"
          }
        }
      ]
    },
    {
      "cell_type": "code",
      "metadata": {
        "id": "3HO0hl4azHcs"
      },
      "source": [
        "models.append('Decision Tree')\n",
        "precision_list.append(precision_score(y_test, y_pred, average='macro'))\n",
        "recall_list.append(recall_score(y_test, y_pred, average='macro'))\n",
        "f1_score_list.append(f1_score(y_test, y_pred, average='macro'))\n",
        "training_acc_list.append(accuracy_score(y_train, dt.predict(X_train_scaled)))\n",
        "testing_acc_list.append(accuracy_score(y_test, y_pred))\n",
        "false_negative_list.append(confusion_matrix(y_test, y_pred)[1,0])"
      ],
      "execution_count": null,
      "outputs": []
    },
    {
      "cell_type": "markdown",
      "metadata": {
        "id": "7rjcrSDG1ie5"
      },
      "source": [
        "##### K-nearest Neighbors"
      ]
    },
    {
      "cell_type": "code",
      "metadata": {
        "id": "E5AVjzCr1ifB"
      },
      "source": [
        "# KNN\n",
        "# Import the K-Nearest Neighbors algorithm\n",
        "from sklearn.neighbors import KNeighborsClassifier\n",
        "\n",
        "knn = KNeighborsClassifier()"
      ],
      "execution_count": null,
      "outputs": []
    },
    {
      "cell_type": "code",
      "metadata": {
        "id": "fDgcDhiF1ifB",
        "colab": {
          "base_uri": "https://localhost:8080/"
        },
        "outputId": "a4ea5c8e-0aa7-4151-b4b4-2244ab9982c5"
      },
      "source": [
        "%%time\n",
        "# Hyperparameter tuning using K-fold cross validation\n",
        "# ... via Grid Search method\n",
        "param_grid = {'n_neighbors': [2, 3, 4, 5, 6, 7, 8, 9, 10, 11]}\n",
        "\n",
        "gs_knn = GridSearchCV(knn,\n",
        "                    param_grid, \n",
        "                    cv=5,\n",
        "                    scoring='f1_macro',\n",
        "                    #scoring='roc_auc_ovr',\n",
        "                    n_jobs=-1)\n",
        "gs_knn.fit(X_train_scaled, y_train)"
      ],
      "execution_count": null,
      "outputs": [
        {
          "output_type": "stream",
          "text": [
            "CPU times: user 441 ms, sys: 42.3 ms, total: 484 ms\n",
            "Wall time: 8.39 s\n"
          ],
          "name": "stdout"
        }
      ]
    },
    {
      "cell_type": "code",
      "metadata": {
        "id": "HDCByFVT1ifC",
        "colab": {
          "base_uri": "https://localhost:8080/"
        },
        "outputId": "3c574a17-ed66-479f-8a18-ac14e993ce70"
      },
      "source": [
        "# Best model hyperparameters and score\n",
        "print(gs_knn.best_estimator_)\n",
        "print(gs_knn.best_params_)\n",
        "print(gs_knn.best_score_)"
      ],
      "execution_count": null,
      "outputs": [
        {
          "output_type": "stream",
          "text": [
            "KNeighborsClassifier(n_neighbors=2)\n",
            "{'n_neighbors': 2}\n",
            "0.9565051692188042\n"
          ],
          "name": "stdout"
        }
      ]
    },
    {
      "cell_type": "code",
      "metadata": {
        "id": "PlGPvBhd1ifC",
        "colab": {
          "base_uri": "https://localhost:8080/"
        },
        "outputId": "5b8cf4fb-bb96-401b-e7f4-2186e91071bd"
      },
      "source": [
        "# Using best estimator found by GridSearchCV\n",
        "knn = gs_knn.best_estimator_\n",
        "knn.fit(X_train_scaled, y_train)"
      ],
      "execution_count": null,
      "outputs": [
        {
          "output_type": "execute_result",
          "data": {
            "text/plain": [
              "KNeighborsClassifier(n_neighbors=2)"
            ]
          },
          "metadata": {
            "tags": []
          },
          "execution_count": 58
        }
      ]
    },
    {
      "cell_type": "code",
      "metadata": {
        "id": "cJ0QYPvn1ifC"
      },
      "source": [
        "y_pred = knn.predict(X_test_scaled)"
      ],
      "execution_count": null,
      "outputs": []
    },
    {
      "cell_type": "code",
      "metadata": {
        "id": "TyFo25wQ1ifC",
        "colab": {
          "base_uri": "https://localhost:8080/"
        },
        "outputId": "b596053b-326a-4db3-863c-d2eed924db72"
      },
      "source": [
        "print(\"Classification report:\")\n",
        "print()\n",
        "print(classification_report(y_test, y_pred))\n",
        "print()\n",
        "\n",
        "# Confusion Matrix\n",
        "print(\"Confusion Matrix:\")\n",
        "confusion_matrix(y_test, y_pred)"
      ],
      "execution_count": null,
      "outputs": [
        {
          "output_type": "stream",
          "text": [
            "Classification report:\n",
            "\n",
            "              precision    recall  f1-score   support\n",
            "\n",
            "           0       0.96      0.99      0.97      1215\n",
            "           1       0.98      0.96      0.97      1215\n",
            "\n",
            "    accuracy                           0.97      2430\n",
            "   macro avg       0.97      0.97      0.97      2430\n",
            "weighted avg       0.97      0.97      0.97      2430\n",
            "\n",
            "\n",
            "Confusion Matrix:\n"
          ],
          "name": "stdout"
        },
        {
          "output_type": "execute_result",
          "data": {
            "text/plain": [
              "array([[1197,   18],\n",
              "       [  53, 1162]])"
            ]
          },
          "metadata": {
            "tags": []
          },
          "execution_count": 60
        }
      ]
    },
    {
      "cell_type": "code",
      "metadata": {
        "id": "fbc_pqnrJyBT",
        "colab": {
          "base_uri": "https://localhost:8080/",
          "height": 388
        },
        "outputId": "4dba2db9-584e-4acf-df8e-83b963039865"
      },
      "source": [
        "# Plot the confusion matrix using Seaborn library\n",
        "# y_test = Actuals, y_pred = Predicted\n",
        "plt.figure(figsize=(8,6))\n",
        "class_names = ['Non Stroke','Stroke']\n",
        "_ = sns.heatmap(confusion_matrix(y_test, y_pred), \n",
        "                annot=True, annot_kws={\"size\": 18},\n",
        "                cmap=plt.cm.Blues,fmt='.4g',\n",
        "                xticklabels=class_names, yticklabels=class_names)\n",
        "_ = plt.ylabel('Actuals', fontweight='bold')\n",
        "_ = plt.xlabel('Predicted', fontweight='bold')"
      ],
      "execution_count": null,
      "outputs": [
        {
          "output_type": "display_data",
          "data": {
            "image/png": "[encoded data removed]",
            "text/plain": [
              "<Figure size 576x432 with 2 Axes>"
            ]
          },
          "metadata": {
            "tags": [],
            "needs_background": "light"
          }
        }
      ]
    },
    {
      "cell_type": "code",
      "metadata": {
        "id": "bkNGY4cQ1ifD"
      },
      "source": [
        "models.append('K-nearest Neighbors')\n",
        "precision_list.append(precision_score(y_test, y_pred, average='macro'))\n",
        "recall_list.append(recall_score(y_test, y_pred, average='macro'))\n",
        "f1_score_list.append(f1_score(y_test, y_pred, average='macro'))\n",
        "training_acc_list.append(accuracy_score(y_train, knn.predict(X_train_scaled)))\n",
        "testing_acc_list.append(accuracy_score(y_test, y_pred))\n",
        "false_negative_list.append(confusion_matrix(y_test, y_pred)[1,0])"
      ],
      "execution_count": null,
      "outputs": []
    },
    {
      "cell_type": "markdown",
      "metadata": {
        "id": "ez9z3PAw4RPa"
      },
      "source": [
        "##### Support Vector Machine (SVM)"
      ]
    },
    {
      "cell_type": "code",
      "metadata": {
        "id": "3rPz9qDq4RPi"
      },
      "source": [
        "# LinearSVC\n",
        "from sklearn.svm import LinearSVC, SVC\n",
        "\n",
        "svm = LinearSVC()"
      ],
      "execution_count": null,
      "outputs": []
    },
    {
      "cell_type": "code",
      "metadata": {
        "id": "2HIsZuqM4RPj",
        "colab": {
          "base_uri": "https://localhost:8080/"
        },
        "outputId": "c574a62a-1038-43ed-c584-eaafe6786a8e"
      },
      "source": [
        "%%time\n",
        "# Hyperparameter tuning using K-fold cross validation\n",
        "# ... via Grid Search method\n",
        "param_grid = {'penalty': ['l1', 'l2'],\n",
        "              'C': np.logspace(-2, 2, 5),\n",
        "              'max_iter': list(range(500, 3000, 5000))}\n",
        "\n",
        "gs_svm = GridSearchCV(svm,\n",
        "                    param_grid, \n",
        "                    cv=5,\n",
        "                    scoring='f1_macro',\n",
        "                    #scoring='roc_auc_ovr',\n",
        "                    n_jobs=-1)\n",
        "gs_svm.fit(X_train_scaled, y_train)"
      ],
      "execution_count": null,
      "outputs": [
        {
          "output_type": "stream",
          "text": [
            "CPU times: user 221 ms, sys: 10.8 ms, total: 232 ms\n",
            "Wall time: 1.56 s\n"
          ],
          "name": "stdout"
        },
        {
          "output_type": "stream",
          "text": [
            "/usr/local/lib/python3.7/dist-packages/sklearn/model_selection/_search.py:921: UserWarning: One or more of the test scores are non-finite: [       nan 0.91776623        nan 0.91816504        nan 0.91804672\n",
            "        nan 0.91805467        nan 0.91175448]\n",
            "  category=UserWarning\n"
          ],
          "name": "stderr"
        }
      ]
    },
    {
      "cell_type": "code",
      "metadata": {
        "id": "pBSY-2gr4RPj",
        "colab": {
          "base_uri": "https://localhost:8080/"
        },
        "outputId": "2b4b8193-bd0a-42a2-ec2a-47084959b998"
      },
      "source": [
        "# Best model hyperparameters and score\n",
        "print(gs_svm.best_estimator_)\n",
        "print(gs_svm.best_params_)\n",
        "print(gs_svm.best_score_)"
      ],
      "execution_count": null,
      "outputs": [
        {
          "output_type": "stream",
          "text": [
            "LinearSVC(C=0.1, max_iter=500)\n",
            "{'C': 0.1, 'max_iter': 500, 'penalty': 'l2'}\n",
            "0.9181650446590075\n"
          ],
          "name": "stdout"
        }
      ]
    },
    {
      "cell_type": "code",
      "metadata": {
        "id": "sHrSDyks4RPk",
        "colab": {
          "base_uri": "https://localhost:8080/"
        },
        "outputId": "a013d2bc-5e26-4881-d51f-0c7bbe6be7f7"
      },
      "source": [
        "# Using best estimator found by GridSearchCV\n",
        "svm = gs_svm.best_estimator_\n",
        "svm.fit(X_train_scaled, y_train)"
      ],
      "execution_count": null,
      "outputs": [
        {
          "output_type": "execute_result",
          "data": {
            "text/plain": [
              "LinearSVC(C=0.1, max_iter=500)"
            ]
          },
          "metadata": {
            "tags": []
          },
          "execution_count": 66
        }
      ]
    },
    {
      "cell_type": "code",
      "metadata": {
        "id": "vFrg1pvM4RPk"
      },
      "source": [
        "y_pred = svm.predict(X_test_scaled)"
      ],
      "execution_count": null,
      "outputs": []
    },
    {
      "cell_type": "code",
      "metadata": {
        "id": "fRxMnU8U4RPk",
        "colab": {
          "base_uri": "https://localhost:8080/"
        },
        "outputId": "2aad4d71-b01f-4625-cba0-8a9e1cd18742"
      },
      "source": [
        "print(\"Classification report:\")\n",
        "print()\n",
        "print(classification_report(y_test, y_pred))\n",
        "print()\n",
        "\n",
        "# Confusion Matrix\n",
        "print(\"Confusion Matrix:\")\n",
        "confusion_matrix(y_test, y_pred)"
      ],
      "execution_count": null,
      "outputs": [
        {
          "output_type": "stream",
          "text": [
            "Classification report:\n",
            "\n",
            "              precision    recall  f1-score   support\n",
            "\n",
            "           0       0.88      0.97      0.92      1215\n",
            "           1       0.97      0.87      0.92      1215\n",
            "\n",
            "    accuracy                           0.92      2430\n",
            "   macro avg       0.92      0.92      0.92      2430\n",
            "weighted avg       0.92      0.92      0.92      2430\n",
            "\n",
            "\n",
            "Confusion Matrix:\n"
          ],
          "name": "stdout"
        },
        {
          "output_type": "execute_result",
          "data": {
            "text/plain": [
              "array([[1177,   38],\n",
              "       [ 158, 1057]])"
            ]
          },
          "metadata": {
            "tags": []
          },
          "execution_count": 68
        }
      ]
    },
    {
      "cell_type": "code",
      "metadata": {
        "id": "j7RjXbQYJ092",
        "colab": {
          "base_uri": "https://localhost:8080/",
          "height": 388
        },
        "outputId": "555fb8a2-30b0-4ae3-dedf-bb4253f6984a"
      },
      "source": [
        "# Plot the confusion matrix using Seaborn library\n",
        "# y_test = Actuals, y_pred = Predicted\n",
        "plt.figure(figsize=(8,6))\n",
        "class_names = ['Non Stroke','Stroke']\n",
        "_ = sns.heatmap(confusion_matrix(y_test, y_pred), \n",
        "                annot=True, annot_kws={\"size\": 18},\n",
        "                cmap=plt.cm.Blues,fmt='.4g',\n",
        "                xticklabels=class_names, yticklabels=class_names)\n",
        "_ = plt.ylabel('Actuals', fontweight='bold')\n",
        "_ = plt.xlabel('Predicted', fontweight='bold')"
      ],
      "execution_count": null,
      "outputs": [
        {
          "output_type": "display_data",
          "data": {
            "image/png": "[encoded data removed]",
            "text/plain": [
              "<Figure size 576x432 with 2 Axes>"
            ]
          },
          "metadata": {
            "tags": [],
            "needs_background": "light"
          }
        }
      ]
    },
    {
      "cell_type": "code",
      "metadata": {
        "id": "uDmjjNWU4RPk"
      },
      "source": [
        "models.append('Support Vector Machine')\n",
        "precision_list.append(precision_score(y_test, y_pred, average='macro'))\n",
        "recall_list.append(recall_score(y_test, y_pred, average='macro'))\n",
        "f1_score_list.append(f1_score(y_test, y_pred, average='macro'))\n",
        "training_acc_list.append(accuracy_score(y_train, svm.predict(X_train_scaled)))\n",
        "testing_acc_list.append(accuracy_score(y_test, y_pred))\n",
        "false_negative_list.append(confusion_matrix(y_test, y_pred)[1,0])"
      ],
      "execution_count": null,
      "outputs": []
    },
    {
      "cell_type": "code",
      "metadata": {
        "colab": {
          "base_uri": "https://localhost:8080/"
        },
        "id": "cEKPefq8EH9h",
        "outputId": "121602ce-2af5-49ce-9b16-fbc96d8980fe"
      },
      "source": [
        "X_train_scaled.columns"
      ],
      "execution_count": null,
      "outputs": [
        {
          "output_type": "execute_result",
          "data": {
            "text/plain": [
              "Index(['gender', 'age', 'hypertension', 'heart_disease', 'ever_married',\n",
              "       'Residence_type', 'avg_glucose_level', 'bmi', 'work_type_Govt_job',\n",
              "       'work_type_Never_worked', 'work_type_Private',\n",
              "       'work_type_Self-employed', 'work_type_children',\n",
              "       'smoking_status_Unknown', 'smoking_status_formerly smoked',\n",
              "       'smoking_status_never smoked', 'smoking_status_smokes'],\n",
              "      dtype='object')"
            ]
          },
          "metadata": {
            "tags": []
          },
          "execution_count": 71
        }
      ]
    },
    {
      "cell_type": "markdown",
      "metadata": {
        "id": "oAhEC-YnCbXB"
      },
      "source": [
        "##### Mixed Naive Bayes"
      ]
    },
    {
      "cell_type": "code",
      "metadata": {
        "id": "Mhc36KeSCbXI"
      },
      "source": [
        "# Naive Bayes\n",
        "from mixed_naive_bayes import MixedNB\n",
        "\n",
        "# 'MixedNB' object has no attribute 'set_params': no hyperparameter tuning\n",
        "mnb = MixedNB(categorical_features=[0,2,3,4,5,8,9,10,11,12,13,14,15,16])\n",
        "mnb.fit(X_train_scaled, y_train)\n",
        "y_pred = mnb.predict (X_test_scaled)"
      ],
      "execution_count": null,
      "outputs": []
    },
    {
      "cell_type": "code",
      "metadata": {
        "colab": {
          "base_uri": "https://localhost:8080/"
        },
        "id": "17ezhNz8CbXP",
        "outputId": "77e402d0-75d9-408a-f465-7ba5ddd0c558"
      },
      "source": [
        "print(\"Classification report:\")\n",
        "print()\n",
        "print(classification_report(y_test, y_pred))\n",
        "print()\n",
        "\n",
        "# Confusion Matrix\n",
        "print(\"Confusion Matrix:\")\n",
        "confusion_matrix(y_test, y_pred)"
      ],
      "execution_count": null,
      "outputs": [
        {
          "output_type": "stream",
          "text": [
            "Classification report:\n",
            "\n",
            "              precision    recall  f1-score   support\n",
            "\n",
            "           0       0.87      0.77      0.82      1215\n",
            "           1       0.79      0.89      0.84      1215\n",
            "\n",
            "    accuracy                           0.83      2430\n",
            "   macro avg       0.83      0.83      0.83      2430\n",
            "weighted avg       0.83      0.83      0.83      2430\n",
            "\n",
            "\n",
            "Confusion Matrix:\n"
          ],
          "name": "stdout"
        },
        {
          "output_type": "execute_result",
          "data": {
            "text/plain": [
              "array([[ 936,  279],\n",
              "       [ 139, 1076]])"
            ]
          },
          "metadata": {
            "tags": []
          },
          "execution_count": 73
        }
      ]
    },
    {
      "cell_type": "code",
      "metadata": {
        "colab": {
          "base_uri": "https://localhost:8080/",
          "height": 388
        },
        "id": "6q_g_qrbCbXR",
        "outputId": "d653365e-d3e0-410d-f5f6-b2b494fd21c8"
      },
      "source": [
        "# Plot the confusion matrix using Seaborn library\n",
        "# y_test = Actuals, y_pred = Predicted\n",
        "plt.figure(figsize=(8,6))\n",
        "class_names = ['Non Stroke','Stroke']\n",
        "_ = sns.heatmap(confusion_matrix(y_test, y_pred), \n",
        "                annot=True, annot_kws={\"size\": 18},\n",
        "                cmap=plt.cm.Blues,fmt='.4g',\n",
        "                xticklabels=class_names, yticklabels=class_names)\n",
        "_ = plt.ylabel('Actuals', fontweight='bold')\n",
        "_ = plt.xlabel('Predicted', fontweight='bold')"
      ],
      "execution_count": null,
      "outputs": [
        {
          "output_type": "display_data",
          "data": {
            "image/png": "[encoded data removed]",
            "text/plain": [
              "<Figure size 576x432 with 2 Axes>"
            ]
          },
          "metadata": {
            "tags": [],
            "needs_background": "light"
          }
        }
      ]
    },
    {
      "cell_type": "code",
      "metadata": {
        "id": "9ctzNkpQCbXR"
      },
      "source": [
        "models.append('Mixed Naive Bayes')\n",
        "precision_list.append(precision_score(y_test, y_pred, average='macro'))\n",
        "recall_list.append(recall_score(y_test, y_pred, average='macro'))\n",
        "f1_score_list.append(f1_score(y_test, y_pred, average='macro'))\n",
        "training_acc_list.append(accuracy_score(y_train, mnb.predict(X_train_scaled)))\n",
        "testing_acc_list.append(accuracy_score(y_test, y_pred))\n",
        "false_negative_list.append(confusion_matrix(y_test, y_pred)[1,0])"
      ],
      "execution_count": null,
      "outputs": []
    },
    {
      "cell_type": "markdown",
      "metadata": {
        "id": "KZeHVlKjCm4C"
      },
      "source": [
        "#### Compilation of Model Metrics"
      ]
    },
    {
      "cell_type": "code",
      "metadata": {
        "id": "6CYc0pkKrB-D"
      },
      "source": [
        "model_metrics = pd.DataFrame(zip(models, training_acc_list, testing_acc_list,\n",
        "                                 precision_list, recall_list, f1_score_list, false_negative_list), \n",
        "                             columns=['Model', 'Training Acc', 'Testing Acc', 'Precision', 'Recall', 'F1 Score', 'False Negative'])"
      ],
      "execution_count": null,
      "outputs": []
    },
    {
      "cell_type": "markdown",
      "metadata": {
        "id": "Jx4Xefy94bWU"
      },
      "source": [
        "#### Model Performance Summary"
      ]
    },
    {
      "cell_type": "code",
      "metadata": {
        "id": "KKCvl3KNrB-D",
        "colab": {
          "base_uri": "https://localhost:8080/",
          "height": 223
        },
        "outputId": "bfd9c55a-041b-43d9-e46e-aa814a2ad7f7"
      },
      "source": [
        "model_metrics.sort_values(by='F1 Score', ascending=False)"
      ],
      "execution_count": null,
      "outputs": [
        {
          "output_type": "execute_result",
          "data": {
            "text/html": [
              "<div>\n",
              "<style scoped>\n",
              "    .dataframe tbody tr th:only-of-type {\n",
              "        vertical-align: middle;\n",
              "    }\n",
              "\n",
              "    .dataframe tbody tr th {\n",
              "        vertical-align: top;\n",
              "    }\n",
              "\n",
              "    .dataframe thead th {\n",
              "        text-align: right;\n",
              "    }\n",
              "</style>\n",
              "<table border=\"1\" class=\"dataframe\">\n",
              "  <thead>\n",
              "    <tr style=\"text-align: right;\">\n",
              "      <th></th>\n",
              "      <th>Model</th>\n",
              "      <th>Training Acc</th>\n",
              "      <th>Testing Acc</th>\n",
              "      <th>Precision</th>\n",
              "      <th>Recall</th>\n",
              "      <th>F1 Score</th>\n",
              "      <th>False Negative</th>\n",
              "    </tr>\n",
              "  </thead>\n",
              "  <tbody>\n",
              "    <tr>\n",
              "      <th>1</th>\n",
              "      <td>Random Forest</td>\n",
              "      <td>0.999588</td>\n",
              "      <td>0.973663</td>\n",
              "      <td>0.973847</td>\n",
              "      <td>0.973663</td>\n",
              "      <td>0.973660</td>\n",
              "      <td>44</td>\n",
              "    </tr>\n",
              "    <tr>\n",
              "      <th>3</th>\n",
              "      <td>K-nearest Neighbors</td>\n",
              "      <td>0.979561</td>\n",
              "      <td>0.970782</td>\n",
              "      <td>0.971173</td>\n",
              "      <td>0.970782</td>\n",
              "      <td>0.970776</td>\n",
              "      <td>53</td>\n",
              "    </tr>\n",
              "    <tr>\n",
              "      <th>2</th>\n",
              "      <td>Decision Tree</td>\n",
              "      <td>0.988889</td>\n",
              "      <td>0.939506</td>\n",
              "      <td>0.939592</td>\n",
              "      <td>0.939506</td>\n",
              "      <td>0.939503</td>\n",
              "      <td>65</td>\n",
              "    </tr>\n",
              "    <tr>\n",
              "      <th>0</th>\n",
              "      <td>Logistic Regression</td>\n",
              "      <td>0.917695</td>\n",
              "      <td>0.921811</td>\n",
              "      <td>0.924138</td>\n",
              "      <td>0.921811</td>\n",
              "      <td>0.921703</td>\n",
              "      <td>140</td>\n",
              "    </tr>\n",
              "    <tr>\n",
              "      <th>4</th>\n",
              "      <td>Support Vector Machine</td>\n",
              "      <td>0.919753</td>\n",
              "      <td>0.919342</td>\n",
              "      <td>0.923472</td>\n",
              "      <td>0.919342</td>\n",
              "      <td>0.919144</td>\n",
              "      <td>158</td>\n",
              "    </tr>\n",
              "    <tr>\n",
              "      <th>5</th>\n",
              "      <td>Mixed Naive Bayes</td>\n",
              "      <td>0.834431</td>\n",
              "      <td>0.827984</td>\n",
              "      <td>0.832397</td>\n",
              "      <td>0.827984</td>\n",
              "      <td>0.827411</td>\n",
              "      <td>139</td>\n",
              "    </tr>\n",
              "  </tbody>\n",
              "</table>\n",
              "</div>"
            ],
            "text/plain": [
              "                    Model  Training Acc  ...  F1 Score  False Negative\n",
              "1           Random Forest      0.999588  ...  0.973660              44\n",
              "3     K-nearest Neighbors      0.979561  ...  0.970776              53\n",
              "2           Decision Tree      0.988889  ...  0.939503              65\n",
              "0     Logistic Regression      0.917695  ...  0.921703             140\n",
              "4  Support Vector Machine      0.919753  ...  0.919144             158\n",
              "5       Mixed Naive Bayes      0.834431  ...  0.827411             139\n",
              "\n",
              "[6 rows x 7 columns]"
            ]
          },
          "metadata": {
            "tags": []
          },
          "execution_count": 77
        }
      ]
    },
    {
      "cell_type": "markdown",
      "metadata": {
        "id": "X7m-f_1I4i5Q"
      },
      "source": [
        "Based on the table above, Random Forest performs the best!"
      ]
    },
    {
      "cell_type": "markdown",
      "metadata": {
        "id": "GMujM94HrB-D"
      },
      "source": [
        "### Step 4: Predict and Evaluate with the best model"
      ]
    },
    {
      "cell_type": "code",
      "metadata": {
        "id": "D_ncNlqNrB-E"
      },
      "source": [
        "# Prediction by selected model\n",
        "y_pred = rf.predict(X_test_scaled)"
      ],
      "execution_count": null,
      "outputs": []
    },
    {
      "cell_type": "code",
      "metadata": {
        "id": "kpaoPOu2rB-E",
        "colab": {
          "base_uri": "https://localhost:8080/"
        },
        "outputId": "ec5c71ff-d7f3-41f9-dca9-30a3264545d4"
      },
      "source": [
        "# Classification Report\n",
        "print(\"Classification report:\")\n",
        "print()\n",
        "print(classification_report(y_test,y_pred))"
      ],
      "execution_count": null,
      "outputs": [
        {
          "output_type": "stream",
          "text": [
            "Classification report:\n",
            "\n",
            "              precision    recall  f1-score   support\n",
            "\n",
            "           0       0.96      0.98      0.97      1215\n",
            "           1       0.98      0.96      0.97      1215\n",
            "\n",
            "    accuracy                           0.97      2430\n",
            "   macro avg       0.97      0.97      0.97      2430\n",
            "weighted avg       0.97      0.97      0.97      2430\n",
            "\n"
          ],
          "name": "stdout"
        }
      ]
    },
    {
      "cell_type": "code",
      "metadata": {
        "colab": {
          "base_uri": "https://localhost:8080/",
          "height": 297
        },
        "id": "ZKHgqIsArB-E",
        "outputId": "e2a41872-fc58-4e91-b0e5-43b39defcaaf"
      },
      "source": [
        "## Confusion Matrix\n",
        "\n",
        "conf_mat = confusion_matrix(y_test, y_pred)\n",
        "sns.heatmap(conf_mat, annot=True, fmt='d', cbar=False, cmap=sns.cubehelix_palette(start=.5, rot=-.5, as_cmap=True),\n",
        "          xticklabels=['Non Stroke','Stroke'],\n",
        "          yticklabels=['Non Stroke','Stroke'] )\n",
        "plt.ylabel('Actuals')\n",
        "plt.xlabel('Predicted')"
      ],
      "execution_count": null,
      "outputs": [
        {
          "output_type": "execute_result",
          "data": {
            "text/plain": [
              "Text(0.5, 15.0, 'Predicted')"
            ]
          },
          "metadata": {
            "tags": []
          },
          "execution_count": 80
        },
        {
          "output_type": "display_data",
          "data": {
            "image/png": "[encoded data removed]",
            "text/plain": [
              "<Figure size 432x288 with 1 Axes>"
            ]
          },
          "metadata": {
            "tags": [],
            "needs_background": "light"
          }
        }
      ]
    },
    {
      "cell_type": "markdown",
      "metadata": {
        "id": "xIgIQeD_rB-E"
      },
      "source": [
        "### Step 5: Feature Importances and Feature Selection"
      ]
    },
    {
      "cell_type": "markdown",
      "metadata": {
        "id": "Up-OrmtquJS3"
      },
      "source": [
        "#### Get and plot features importances"
      ]
    },
    {
      "cell_type": "code",
      "metadata": {
        "id": "vCnZCnJXrB-F"
      },
      "source": [
        "# Creating the feature importances dataframe\n",
        "feature_importance = np.array(rf.feature_importances_)\n",
        "feature_names = np.array(X.columns)\n",
        "\n",
        "feat_imp = pd.DataFrame({'feature_names':feature_names,'feature_importance':feature_importance})\n",
        "feat_imp_sorted = feat_imp.sort_values('feature_importance', ascending=False)"
      ],
      "execution_count": null,
      "outputs": []
    },
    {
      "cell_type": "code",
      "metadata": {
        "colab": {
          "base_uri": "https://localhost:8080/",
          "height": 516
        },
        "id": "Ve21hewSrB-F",
        "outputId": "20d7a0d2-eadd-4c92-eb01-d42008014cea"
      },
      "source": [
        "plt.figure(figsize=(10,8))\n",
        "sns.barplot(x=feat_imp_sorted['feature_importance'], y=feat_imp_sorted['feature_names'])"
      ],
      "execution_count": null,
      "outputs": [
        {
          "output_type": "execute_result",
          "data": {
            "text/plain": [
              "<matplotlib.axes._subplots.AxesSubplot at 0x7f689b6ddc90>"
            ]
          },
          "metadata": {
            "tags": []
          },
          "execution_count": 82
        },
        {
          "output_type": "display_data",
          "data": {
            "image/png": "[encoded data removed]",
            "text/plain": [
              "<Figure size 720x576 with 1 Axes>"
            ]
          },
          "metadata": {
            "tags": [],
            "needs_background": "light"
          }
        }
      ]
    },
    {
      "cell_type": "markdown",
      "metadata": {
        "id": "2urRMB1DV-QA"
      },
      "source": [
        "#### Feature Selection by SelectKBest\n",
        "We can also use SelectKBest from scikit-learn library to help us select the top-k most important features."
      ]
    },
    {
      "cell_type": "code",
      "metadata": {
        "id": "JQRJRZGJV-QA",
        "colab": {
          "base_uri": "https://localhost:8080/"
        },
        "outputId": "76221d96-3647-42d3-d748-1d31a9ccc724"
      },
      "source": [
        "from sklearn.feature_selection import SelectKBest, chi2, f_regression\n",
        "# For classifications, use 'chi2' score function\n",
        "# For regressions, use 'f_regression' score function\n",
        "selectClf = SelectKBest(chi2, k=10)\n",
        "X_new = SelectKBest(chi2, k=10).fit_transform(X,y)\n",
        "X_new.shape"
      ],
      "execution_count": null,
      "outputs": [
        {
          "output_type": "execute_result",
          "data": {
            "text/plain": [
              "(5109, 10)"
            ]
          },
          "metadata": {
            "tags": []
          },
          "execution_count": 83
        }
      ]
    },
    {
      "cell_type": "code",
      "metadata": {
        "id": "8uKp09njV-QA"
      },
      "source": [
        "X_train_new = selectClf.fit_transform(X_train, y_train)"
      ],
      "execution_count": null,
      "outputs": []
    },
    {
      "cell_type": "code",
      "metadata": {
        "id": "VW_D5oGMV-QA"
      },
      "source": [
        "mask = selectClf.get_support() #list of booleans\n",
        "feature_names = list(X.columns.values)\n",
        "new_features = [] # The list of your K best features\n",
        "\n",
        "for booltype, feature in zip(mask, feature_names):\n",
        "    if booltype:\n",
        "        new_features.append(feature)"
      ],
      "execution_count": null,
      "outputs": []
    },
    {
      "cell_type": "code",
      "metadata": {
        "id": "H_6bpvyHV-QB",
        "colab": {
          "base_uri": "https://localhost:8080/"
        },
        "outputId": "715f18ad-e04c-4cd1-a542-2a99cb4ae58d"
      },
      "source": [
        "# Feature Selection by SelectKBest(10)\n",
        "new_features"
      ],
      "execution_count": null,
      "outputs": [
        {
          "output_type": "execute_result",
          "data": {
            "text/plain": [
              "['gender',\n",
              " 'age',\n",
              " 'Residence_type',\n",
              " 'avg_glucose_level',\n",
              " 'work_type_Govt_job',\n",
              " 'work_type_Private',\n",
              " 'work_type_children',\n",
              " 'smoking_status_Unknown',\n",
              " 'smoking_status_never smoked',\n",
              " 'smoking_status_smokes']"
            ]
          },
          "metadata": {
            "tags": []
          },
          "execution_count": 86
        }
      ]
    },
    {
      "cell_type": "code",
      "metadata": {
        "id": "PNncfUpQV-QB",
        "colab": {
          "base_uri": "https://localhost:8080/"
        },
        "outputId": "87ea92cf-5310-4960-ce42-d0ad0730161c"
      },
      "source": [
        "feature_names"
      ],
      "execution_count": null,
      "outputs": [
        {
          "output_type": "execute_result",
          "data": {
            "text/plain": [
              "['gender',\n",
              " 'age',\n",
              " 'hypertension',\n",
              " 'heart_disease',\n",
              " 'ever_married',\n",
              " 'Residence_type',\n",
              " 'avg_glucose_level',\n",
              " 'bmi',\n",
              " 'work_type_Govt_job',\n",
              " 'work_type_Never_worked',\n",
              " 'work_type_Private',\n",
              " 'work_type_Self-employed',\n",
              " 'work_type_children',\n",
              " 'smoking_status_Unknown',\n",
              " 'smoking_status_formerly smoked',\n",
              " 'smoking_status_never smoked',\n",
              " 'smoking_status_smokes']"
            ]
          },
          "metadata": {
            "tags": []
          },
          "execution_count": 87
        }
      ]
    }
  ]
}